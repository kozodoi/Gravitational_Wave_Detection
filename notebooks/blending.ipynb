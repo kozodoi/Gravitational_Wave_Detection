{
 "cells": [
  {
   "cell_type": "markdown",
   "metadata": {
    "papermill": {
     "duration": 0.010906,
     "end_time": "2021-02-17T10:42:38.272726",
     "exception": false,
     "start_time": "2021-02-17T10:42:38.261820",
     "status": "completed"
    },
    "tags": []
   },
   "source": [
    "# PARAMETERS"
   ]
  },
  {
   "cell_type": "code",
   "execution_count": 1,
   "metadata": {
    "papermill": {
     "duration": 0.022858,
     "end_time": "2021-02-17T10:42:38.306568",
     "exception": false,
     "start_time": "2021-02-17T10:42:38.283710",
     "status": "completed"
    },
    "tags": []
   },
   "outputs": [],
   "source": [
    "####### INFERENCE CONFIGURATION\n",
    "\n",
    "class CFG:\n",
    "    \n",
    "    # environment\n",
    "    environment  = 'local'  # work environment ['kaggle', 'local']\n",
    "    \n",
    "    # blending\n",
    "    scaling     = False\n",
    "    fold_blend  = 'gmean'  # how to blend folds  ['amean', 'median', 'gmean', 'pmean', 'rmean']\n",
    "    model_blend = 'gmean'  # how to blend models ['amean', 'median', 'gmean', 'pmean', 'rmean']\n",
    "    power       = 1e-2     # power parameter for pmean\n",
    "        \n",
    "    # paths\n",
    "    data_path = '../input/'\n",
    "    out_path  = '../output/blend/'\n",
    "    \n",
    "    # models\n",
    "    models = [\n",
    "             '../output/v1',\n",
    "             '../output/v2',\n",
    "             ]"
   ]
  },
  {
   "cell_type": "code",
   "execution_count": 2,
   "metadata": {},
   "outputs": [],
   "source": [
    "####### CONVERT CONFIGURATION\n",
    "\n",
    "CFG = dict(vars(CFG))\n",
    "for key in ['__dict__', '__doc__', '__module__', '__weakref__']:\n",
    "    del CFG[key]"
   ]
  },
  {
   "cell_type": "markdown",
   "metadata": {
    "papermill": {
     "duration": 0.009526,
     "end_time": "2021-02-17T10:42:39.079995",
     "exception": false,
     "start_time": "2021-02-17T10:42:39.070469",
     "status": "completed"
    },
    "tags": []
   },
   "source": [
    "# PREPARATIONS"
   ]
  },
  {
   "cell_type": "code",
   "execution_count": 3,
   "metadata": {
    "papermill": {
     "duration": 5.445217,
     "end_time": "2021-02-17T10:42:44.534353",
     "exception": false,
     "start_time": "2021-02-17T10:42:39.089136",
     "status": "completed"
    },
    "tags": []
   },
   "outputs": [],
   "source": [
    "####### PACKAGES\n",
    "\n",
    "import numpy as np\n",
    "import pandas as pd\n",
    "\n",
    "from scipy.special import softmax\n",
    "from scipy.stats import gmean\n",
    "\n",
    "import random\n",
    "import time\n",
    "import sys\n",
    "import os\n",
    "\n",
    "import matplotlib.pyplot as plt\n",
    "import seaborn as sns\n",
    "%matplotlib inline\n",
    "\n",
    "import warnings"
   ]
  },
  {
   "cell_type": "code",
   "execution_count": 4,
   "metadata": {},
   "outputs": [],
   "source": [
    "####### MODULES\n",
    "\n",
    "sys.path.append('../code')  \n",
    "\n",
    "from utilities import get_score, compute_blend"
   ]
  },
  {
   "cell_type": "code",
   "execution_count": 5,
   "metadata": {},
   "outputs": [],
   "source": [
    "####### ENVIRONMENT SETTINGS\n",
    "\n",
    "pd.options.display.max_columns = 100  # maximum displayed columns\n",
    "warnings.filterwarnings('ignore')      # ignoring warnings"
   ]
  },
  {
   "cell_type": "markdown",
   "metadata": {
    "papermill": {
     "duration": 0.00934,
     "end_time": "2021-02-17T10:42:44.617074",
     "exception": false,
     "start_time": "2021-02-17T10:42:44.607734",
     "status": "completed"
    },
    "tags": []
   },
   "source": [
    "# DATA PREP"
   ]
  },
  {
   "cell_type": "code",
   "execution_count": 6,
   "metadata": {},
   "outputs": [
    {
     "data": {
      "text/plain": [
       "(60000, 6)"
      ]
     },
     "execution_count": 6,
     "metadata": {},
     "output_type": "execute_result"
    }
   ],
   "source": [
    "####### IMPORT OOF PREDS\n",
    "\n",
    "for m in CFG['models']:\n",
    "\n",
    "    tmp_train_preds         = pd.read_csv(m + '/oof.csv')\n",
    "    tmp_train_preds.columns = ['id', 'target', 'file_path', 'fold'] + [str(m) + 'pred']\n",
    "    \n",
    "    if CFG['scaling']:\n",
    "        for fold in range(tmp_train_preds['fold'].max()):\n",
    "            tmp_train_preds.loc[tmp_train_preds['fold'] == fold, str(m) + 'pred'] = tmp_train_preds.loc[tmp_train_preds['fold'] == fold, str(m) + 'pred'].rank(pct = True)\n",
    "\n",
    "    if m == CFG['models'][0]:\n",
    "        train_preds = tmp_train_preds        \n",
    "    else:\n",
    "        train_preds = train_preds.merge(tmp_train_preds[['id'] + [str(m) + 'pred']], how = 'left', on = 'id')\n",
    "        \n",
    "train_preds.shape"
   ]
  },
  {
   "cell_type": "code",
   "execution_count": 7,
   "metadata": {},
   "outputs": [
    {
     "data": {
      "text/plain": [
       "(39995, 11)"
      ]
     },
     "execution_count": 7,
     "metadata": {},
     "output_type": "execute_result"
    }
   ],
   "source": [
    "####### IMPORT TEST PREDS\n",
    "\n",
    "for m in CFG['models']:\n",
    "\n",
    "    tmp_test_preds         = pd.read_csv(m + '/submission.csv')\n",
    "    tmp_test_preds.columns = ['id'] + [str(m) + p for p in ['pred0', 'pred1', 'pred2', 'pred3', 'pred4']]\n",
    "    \n",
    "    if CFG['scaling']:\n",
    "        for fold in range(5):\n",
    "            tmp_test_preds[str(m) + 'pred' + str(fold)] = tmp_test_preds[str(m) + 'pred' + str(fold)].rank(pct = True)\n",
    "\n",
    "\n",
    "    if m == CFG['models'][0]:\n",
    "        test_preds = tmp_test_preds        \n",
    "    else:\n",
    "        test_preds = test_preds.merge(tmp_test_preds[['id'] + [str(m) + p for p in ['pred0', 'pred1', 'pred2', 'pred3', 'pred4']]], how = 'left', on = 'id')\n",
    "        \n",
    "test_preds.shape"
   ]
  },
  {
   "cell_type": "code",
   "execution_count": 8,
   "metadata": {},
   "outputs": [
    {
     "data": {
      "image/png": "[encoded data removed]",
      "text/plain": [
       "<Figure size 1080x720 with 2 Axes>"
      ]
     },
     "metadata": {
      "needs_background": "light"
     },
     "output_type": "display_data"
    }
   ],
   "source": [
    "####### CHECK MODEL OOF CORRELATION\n",
    "\n",
    "# compute correlations\n",
    "corr    = train_preds[[m + 'pred' for m in CFG['models']]].corr(method = 'spearman')\n",
    "corr    = corr.where(np.tril(np.ones(corr.shape)).astype(np.bool))\n",
    "fig, ax  = plt.subplots(figsize = (15, 10))\n",
    "ticks   = [m.replace('../output/', '') for m in CFG['models']]\n",
    "hmap    = sns.heatmap(corr, cmap = 'coolwarm', annot = corr, fmt = '.4f', xticklabels = ticks, yticklabels = ticks)\n",
    "\n",
    "# display matrix\n",
    "plt.yticks(rotation = 0)\n",
    "plt.savefig(CFG['out_path'] + 'fig_correlation.png')\n",
    "plt.show()"
   ]
  },
  {
   "cell_type": "markdown",
   "metadata": {},
   "source": [
    "# BLENDING"
   ]
  },
  {
   "cell_type": "code",
   "execution_count": 9,
   "metadata": {},
   "outputs": [
    {
     "name": "stdout",
     "output_type": "stream",
     "text": [
      "-------------------------------\n",
      "ID   Model                 AUC\n",
      "-------------------------------\n",
      "1    ../output/v2        0.8650\n",
      "2    ../output/v1        0.8873\n",
      "-------------------------------\n"
     ]
    }
   ],
   "source": [
    "####### CHECK MODEL PERFORMANCE\n",
    "\n",
    "# sort models by performance\n",
    "weights = []\n",
    "for model_idx, m in enumerate(CFG['models']):\n",
    "    score = 0\n",
    "    for fold_idx in range(5):\n",
    "        tmp_train_preds = train_preds.loc[train_preds['fold'] == fold_idx]\n",
    "        score += get_score(tmp_train_preds['target'].values, \n",
    "                           tmp_train_preds[str(m) + 'pred'].values) / 5\n",
    "    weights.append(score)\n",
    "sorted_ids     = list(np.argsort(np.array(weights)))\n",
    "sorted_weights = [weights[i] for i in sorted_ids]\n",
    "CFG['models']  = [CFG['models'][i] for i in sorted_ids]\n",
    "\n",
    "# display performance \n",
    "print('-' * 31)\n",
    "print('{:<5}{:<20}{:>5}'.format('ID', 'Model', 'AUC'))\n",
    "print('-' * 31)\n",
    "for model_idx, m in enumerate(CFG['models']):\n",
    "    print('{:<5}{:<20}{:.4f}'.format(model_idx + 1, m, sorted_weights[model_idx]))\n",
    "print('-' * 31)"
   ]
  },
  {
   "cell_type": "code",
   "execution_count": 10,
   "metadata": {
    "papermill": {
     "duration": 4.959245,
     "end_time": "2021-02-17T10:42:49.648484",
     "exception": false,
     "start_time": "2021-02-17T10:42:44.689239",
     "status": "completed"
    },
    "tags": []
   },
   "outputs": [
    {
     "name": "stdout",
     "output_type": "stream",
     "text": [
      "----------------\n",
      "Blend       AUC\n",
      "----------------\n",
      "amean     0.8880\n",
      "median    0.8880\n",
      "gmean     0.8875\n",
      "pmean     0.8875\n",
      "rmean     0.8811\n",
      "----------------\n",
      "wamean    0.8881\n",
      "wmedian   0.8880\n",
      "wgmean    0.8882\n",
      "wpmean    0.8882\n",
      "wrmean    0.8863\n",
      "----------------\n"
     ]
    }
   ],
   "source": [
    "####### CHECK BLEND PERFORMANCE\n",
    "\n",
    "# custom weights\n",
    "sorted_weights = [0.2, 0.8]\n",
    "\n",
    "# compute predcitions\n",
    "preds = [m + 'pred' for m in CFG['models']]\n",
    "for blend in ['amean', 'median', 'gmean', 'pmean', 'rmean']:\n",
    "    train_preds[blend] = compute_blend(train_preds, preds, blend, CFG)\n",
    "for blend in ['amean', 'median', 'gmean', 'pmean', 'rmean']:\n",
    "    train_preds['w' + blend] = compute_blend(train_preds, preds, blend, CFG, weights = np.array(sorted_weights))\n",
    "\n",
    "# compute performance\n",
    "print('-' * 16)\n",
    "print('{:<10}{:>5}'.format('Blend', 'AUC'))\n",
    "print('-' * 16)\n",
    "for blend in ['amean', 'median', 'gmean', 'pmean', 'rmean']:\n",
    "    score = 0\n",
    "    for fold_idx in range(5):\n",
    "        tmp_train_preds = train_preds.loc[train_preds['fold'] == fold_idx]\n",
    "        score += get_score(tmp_train_preds['target'].values, \n",
    "                           tmp_train_preds[blend].values) / 5\n",
    "    print('{:<10}{:>5.4f}'.format(blend, score))    \n",
    "print('-' * 16)\n",
    "for blend in ['amean', 'median', 'gmean', 'pmean', 'rmean']:\n",
    "    score = 0\n",
    "    for fold_idx in range(5):\n",
    "        tmp_train_preds = train_preds.loc[train_preds['fold'] == fold_idx]\n",
    "        score += get_score(tmp_train_preds['target'].values, \n",
    "                           tmp_train_preds['w' + blend].values) / 5\n",
    "    print('{:<10}{:>5.4f}'.format('w' + blend, score))    \n",
    "print('-' * 16)"
   ]
  },
  {
   "cell_type": "code",
   "execution_count": 11,
   "metadata": {},
   "outputs": [
    {
     "name": "stdout",
     "output_type": "stream",
     "text": [
      "Blending fold predictions with: gmean\n",
      "Blending model predictions with: gmean\n"
     ]
    },
    {
     "data": {
      "text/html": [
       "<div>\n",
       "<style scoped>\n",
       "    .dataframe tbody tr th:only-of-type {\n",
       "        vertical-align: middle;\n",
       "    }\n",
       "\n",
       "    .dataframe tbody tr th {\n",
       "        vertical-align: top;\n",
       "    }\n",
       "\n",
       "    .dataframe thead th {\n",
       "        text-align: right;\n",
       "    }\n",
       "</style>\n",
       "<table border=\"1\" class=\"dataframe\">\n",
       "  <thead>\n",
       "    <tr style=\"text-align: right;\">\n",
       "      <th></th>\n",
       "      <th>id</th>\n",
       "      <th>target</th>\n",
       "    </tr>\n",
       "  </thead>\n",
       "  <tbody>\n",
       "    <tr>\n",
       "      <th>0</th>\n",
       "      <td>000bf832cae9ff1</td>\n",
       "      <td>0.047284</td>\n",
       "    </tr>\n",
       "    <tr>\n",
       "      <th>1</th>\n",
       "      <td>000c74cc71a1140</td>\n",
       "      <td>0.100546</td>\n",
       "    </tr>\n",
       "    <tr>\n",
       "      <th>2</th>\n",
       "      <td>000f5f9851161d3</td>\n",
       "      <td>0.027195</td>\n",
       "    </tr>\n",
       "    <tr>\n",
       "      <th>3</th>\n",
       "      <td>000f7499e95aba6</td>\n",
       "      <td>0.099656</td>\n",
       "    </tr>\n",
       "    <tr>\n",
       "      <th>4</th>\n",
       "      <td>00133ce6ec257f9</td>\n",
       "      <td>0.030714</td>\n",
       "    </tr>\n",
       "  </tbody>\n",
       "</table>\n",
       "</div>"
      ],
      "text/plain": [
       "                id    target\n",
       "0  000bf832cae9ff1  0.047284\n",
       "1  000c74cc71a1140  0.100546\n",
       "2  000f5f9851161d3  0.027195\n",
       "3  000f7499e95aba6  0.099656\n",
       "4  00133ce6ec257f9  0.030714"
      ]
     },
     "execution_count": 11,
     "metadata": {},
     "output_type": "execute_result"
    }
   ],
   "source": [
    "####### EXPORT BEST BLEND\n",
    "\n",
    "# blend fold predictions\n",
    "print('Blending fold predictions with: ' + CFG['fold_blend'])\n",
    "for m in CFG['models']:\n",
    "    preds = test_preds.filter(like = m).columns\n",
    "    test_preds[m + 'pred'] = compute_blend(test_preds, preds, CFG['fold_blend'], CFG)\n",
    "    test_preds.drop(preds, axis = 1, inplace = True)\n",
    "    \n",
    "# blend model predictions\n",
    "print('Blending model predictions with: ' + CFG['model_blend'])\n",
    "preds = [m + 'pred' for m in CFG['models']]\n",
    "test_preds['pred'] = compute_blend(test_preds, preds, CFG['model_blend'], CFG, weights = np.array(sorted_weights))\n",
    "\n",
    "# save CSV\n",
    "test_blend = test_preds[['id', 'pred']].copy()   \n",
    "test_blend.columns = ['id', 'target']\n",
    "test_blend.to_csv(CFG['out_path'] + 'submission.csv', index = False)\n",
    "test_blend.head()"
   ]
  }
 ],
 "metadata": {
  "kernelspec": {
   "display_name": "Python 3",
   "language": "python",
   "name": "python3"
  },
  "language_info": {
   "codemirror_mode": {
    "name": "ipython",
    "version": 3
   },
   "file_extension": ".py",
   "mimetype": "text/x-python",
   "name": "python",
   "nbconvert_exporter": "python",
   "pygments_lexer": "ipython3",
   "version": "3.8.8"
  },
  "papermill": {
   "default_parameters": {},
   "duration": 144.763392,
   "end_time": "2021-02-17T10:44:57.683440",
   "environment_variables": {},
   "exception": null,
   "input_path": "__notebook__.ipynb",
   "output_path": "__notebook__.ipynb",
   "parameters": {},
   "start_time": "2021-02-17T10:42:32.920048",
   "version": "2.2.2"
  }
 },
 "nbformat": 4,
 "nbformat_minor": 4
}

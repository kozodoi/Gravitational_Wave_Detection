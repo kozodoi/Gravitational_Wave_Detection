{
 "cells": [
  {
   "cell_type": "markdown",
   "metadata": {
    "papermill": {
     "duration": 0.010906,
     "end_time": "2021-02-17T10:42:38.272726",
     "exception": false,
     "start_time": "2021-02-17T10:42:38.261820",
     "status": "completed"
    },
    "tags": []
   },
   "source": [
    "# PARAMETERS"
   ]
  },
  {
   "cell_type": "code",
   "execution_count": 1,
   "metadata": {
    "papermill": {
     "duration": 0.022858,
     "end_time": "2021-02-17T10:42:38.306568",
     "exception": false,
     "start_time": "2021-02-17T10:42:38.283710",
     "status": "completed"
    },
    "tags": []
   },
   "outputs": [],
   "source": [
    "####### INFERENCE CONFIGURATION\n",
    "\n",
    "class CFG:\n",
    "    \n",
    "    # environment\n",
    "    environment  = 'local'  # work environment ['kaggle', 'local']\n",
    "    num_workers = 2         # no. cores\n",
    "    debug       = False     # debug runs inference on a subset of training images\n",
    "    \n",
    "    # general\n",
    "    seed = 13353  # random state\n",
    "    \n",
    "    # blending\n",
    "    scaling     = False\n",
    "    fold_blend  = 'gmean'  # how to blend folds  ['amean', 'median', 'gmean', 'pmean', 'rmean']\n",
    "    model_blend = 'gmean'  # how to blend models ['amean', 'median', 'gmean', 'pmean', 'rmean']\n",
    "    power       = 1e-2     # power parameter for pmean\n",
    "    \n",
    "    \n",
    "    # stacking \n",
    "    w_stack         = 1         # weight of stacking in final ensemble\n",
    "    lgb_folds       = 5         # no. folds for stacking\n",
    "    lgb_stop_rounds = 200       # no. early stopping rounds\n",
    "    lgb_params      = {'objective':         'binary',\n",
    "                       'metrics':           'auc',\n",
    "                       'n_estimators':      10000,\n",
    "                       'learning_rate':     0.01,\n",
    "                       'num_leaves':        16,\n",
    "                       'max_depth':         3,\n",
    "                       'min_child_samples': 20,\n",
    "                       'subsample':         0.8,\n",
    "                       'colsample_bytree':  0.8,\n",
    "                       'reg_alpha':         0.01,\n",
    "                       'reg_lambda':        0.01,\n",
    "                       'silent':            True,\n",
    "                       'verbosity':         -1,\n",
    "                       'n_jobs' :           4,\n",
    "                       'random_state':      13353}\n",
    "    \n",
    "    # paths\n",
    "    data_path = '../input/'\n",
    "    out_path  = '../output/blend/'\n",
    "    \n",
    "    # models\n",
    "    models = [\n",
    "             '../output/v11/',\n",
    "             '../output/v12/',\n",
    "             '../output/v13/',\n",
    "             '../output/v14/',\n",
    "             #'../output/v15/',\n",
    "             '../output/v16/',\n",
    "             ]"
   ]
  },
  {
   "cell_type": "code",
   "execution_count": 2,
   "metadata": {},
   "outputs": [],
   "source": [
    "####### CONVERT CONFIGURATION\n",
    "\n",
    "CFG = dict(vars(CFG))\n",
    "for key in ['__dict__', '__doc__', '__module__', '__weakref__']:\n",
    "    del CFG[key]"
   ]
  },
  {
   "cell_type": "markdown",
   "metadata": {
    "papermill": {
     "duration": 0.009526,
     "end_time": "2021-02-17T10:42:39.079995",
     "exception": false,
     "start_time": "2021-02-17T10:42:39.070469",
     "status": "completed"
    },
    "tags": []
   },
   "source": [
    "# PREPARATIONS"
   ]
  },
  {
   "cell_type": "code",
   "execution_count": 3,
   "metadata": {
    "papermill": {
     "duration": 5.445217,
     "end_time": "2021-02-17T10:42:44.534353",
     "exception": false,
     "start_time": "2021-02-17T10:42:39.089136",
     "status": "completed"
    },
    "tags": []
   },
   "outputs": [],
   "source": [
    "####### PACKAGES\n",
    "\n",
    "import numpy as np\n",
    "import pandas as pd\n",
    "\n",
    "import torch\n",
    "\n",
    "import lightgbm as lgb\n",
    "\n",
    "from scipy.special import softmax\n",
    "from scipy.stats import gmean\n",
    "\n",
    "from sklearn.model_selection import KFold, StratifiedKFold\n",
    "from sklearn import preprocessing\n",
    "\n",
    "from tqdm.auto import tqdm\n",
    "\n",
    "import random\n",
    "import time\n",
    "import sys\n",
    "import os\n",
    "\n",
    "import gc; gc.enable()\n",
    "\n",
    "import matplotlib.pyplot as plt\n",
    "import seaborn as sns\n",
    "%matplotlib inline\n",
    "\n",
    "import warnings"
   ]
  },
  {
   "cell_type": "code",
   "execution_count": 4,
   "metadata": {},
   "outputs": [],
   "source": [
    "####### MODULES\n",
    "\n",
    "sys.path.append('../code')  \n",
    "\n",
    "from utilities import get_score, compute_blend, seed_everything"
   ]
  },
  {
   "cell_type": "code",
   "execution_count": 5,
   "metadata": {},
   "outputs": [
    {
     "name": "stdout",
     "output_type": "stream",
     "text": [
      "- setting random seed to 13353...\n"
     ]
    }
   ],
   "source": [
    "####### ENVIRONMENT SETTINGS\n",
    "\n",
    "pd.options.display.max_columns = 100  # maximum displayed columns\n",
    "warnings.filterwarnings('ignore')      # ignoring warnings\n",
    "seed_everything(CFG['seed'])          # random seed"
   ]
  },
  {
   "cell_type": "markdown",
   "metadata": {
    "papermill": {
     "duration": 0.00934,
     "end_time": "2021-02-17T10:42:44.617074",
     "exception": false,
     "start_time": "2021-02-17T10:42:44.607734",
     "status": "completed"
    },
    "tags": []
   },
   "source": [
    "# DATA PREP"
   ]
  },
  {
   "cell_type": "code",
   "execution_count": 6,
   "metadata": {},
   "outputs": [
    {
     "data": {
      "text/plain": [
       "(560000, 9)"
      ]
     },
     "execution_count": 6,
     "metadata": {},
     "output_type": "execute_result"
    }
   ],
   "source": [
    "####### IMPORT OOF PREDS\n",
    "\n",
    "for m in CFG['models']:\n",
    "\n",
    "    tmp_train_preds         = pd.read_csv(m + '/oof.csv')\n",
    "    tmp_train_preds.columns = ['id', 'target', 'file_path', 'fold'] + [str(m) + 'pred']\n",
    "    \n",
    "    if CFG['scaling']:\n",
    "        for fold in range(tmp_train_preds['fold'].max()):\n",
    "            tmp_train_preds.loc[tmp_train_preds['fold'] == fold, str(m) + 'pred'] = tmp_train_preds.loc[tmp_train_preds['fold'] == fold, str(m) + 'pred'].rank(pct = True)\n",
    "\n",
    "    if m == CFG['models'][0]:\n",
    "        train_preds = tmp_train_preds        \n",
    "    else:\n",
    "        train_preds = train_preds.merge(tmp_train_preds[['id'] + [str(m) + 'pred']], how = 'left', on = 'id')\n",
    "        \n",
    "train_preds.shape"
   ]
  },
  {
   "cell_type": "code",
   "execution_count": 7,
   "metadata": {},
   "outputs": [
    {
     "data": {
      "text/plain": [
       "(226000, 26)"
      ]
     },
     "execution_count": 7,
     "metadata": {},
     "output_type": "execute_result"
    }
   ],
   "source": [
    "####### IMPORT TEST PREDS\n",
    "\n",
    "for m in CFG['models']:\n",
    "\n",
    "    tmp_test_preds         = pd.read_csv(m + '/submission.csv')\n",
    "    tmp_test_preds.columns = ['id'] + [str(m) + p for p in ['pred0', 'pred1', 'pred2', 'pred3', 'pred4']]\n",
    "    \n",
    "    if CFG['scaling']:\n",
    "        for fold in range(5):\n",
    "            tmp_test_preds[str(m) + 'pred' + str(fold)] = tmp_test_preds[str(m) + 'pred' + str(fold)].rank(pct = True)\n",
    "\n",
    "\n",
    "    if m == CFG['models'][0]:\n",
    "        test_preds = tmp_test_preds        \n",
    "    else:\n",
    "        test_preds = test_preds.merge(tmp_test_preds[['id'] + [str(m) + p for p in ['pred0', 'pred1', 'pred2', 'pred3', 'pred4']]], how = 'left', on = 'id')\n",
    "        \n",
    "test_preds.shape"
   ]
  },
  {
   "cell_type": "markdown",
   "metadata": {},
   "source": [
    "# BLENDING"
   ]
  },
  {
   "cell_type": "code",
   "execution_count": 8,
   "metadata": {},
   "outputs": [
    {
     "name": "stdout",
     "output_type": "stream",
     "text": [
      "-------------------------------\n",
      "ID   Model                 AUC\n",
      "-------------------------------\n",
      "1    ../output/v14/      0.8370\n",
      "2    ../output/v16/      0.8381\n",
      "3    ../output/v11/      0.8628\n",
      "4    ../output/v12/      0.8635\n",
      "5    ../output/v13/      0.8657\n",
      "-------------------------------\n"
     ]
    }
   ],
   "source": [
    "####### CHECK OOF PERFORMANCE\n",
    "\n",
    "# sort models by performance\n",
    "weights = []\n",
    "for model_idx, m in enumerate(CFG['models']):\n",
    "    score = 0\n",
    "    for fold_idx in range(5):\n",
    "        tmp_train_preds = train_preds.loc[train_preds['fold'] == fold_idx]\n",
    "        score += get_score(tmp_train_preds['target'].values, \n",
    "                           tmp_train_preds[str(m) + 'pred'].values) / 5\n",
    "    weights.append(score)\n",
    "sorted_ids     = list(np.argsort(np.array(weights)))\n",
    "sorted_weights = [weights[i] for i in sorted_ids]\n",
    "CFG['models']  = [CFG['models'][i] for i in sorted_ids]\n",
    "\n",
    "# display performance \n",
    "print('-' * 31)\n",
    "print('{:<5}{:<20}{:>5}'.format('ID', 'Model', 'AUC'))\n",
    "print('-' * 31)\n",
    "for model_idx, m in enumerate(CFG['models']):\n",
    "    print('{:<5}{:<20}{:.4f}'.format(model_idx + 1, m, sorted_weights[model_idx]))\n",
    "print('-' * 31)"
   ]
  },
  {
   "cell_type": "code",
   "execution_count": 9,
   "metadata": {
    "papermill": {
     "duration": 4.959245,
     "end_time": "2021-02-17T10:42:49.648484",
     "exception": false,
     "start_time": "2021-02-17T10:42:44.689239",
     "status": "completed"
    },
    "tags": []
   },
   "outputs": [
    {
     "name": "stdout",
     "output_type": "stream",
     "text": [
      "----------------\n",
      "Blend       AUC\n",
      "----------------\n",
      "amean     0.8685\n",
      "median    0.8675\n",
      "gmean     0.8682\n",
      "pmean     0.8682\n",
      "rmean     0.8674\n",
      "----------------\n",
      "wamean    0.8685\n",
      "wmedian   0.8675\n",
      "wgmean    0.8682\n",
      "wpmean    0.8682\n",
      "wrmean    0.8673\n",
      "----------------\n"
     ]
    }
   ],
   "source": [
    "####### CHECK BLEND PERFORMANCE\n",
    "\n",
    "# compute predcitions\n",
    "preds = train_preds.filter(like = 'output').columns\n",
    "for blend in ['amean', 'median', 'gmean', 'pmean', 'rmean']:\n",
    "    train_preds[blend] = compute_blend(train_preds, preds, blend, CFG)\n",
    "for blend in ['amean', 'median', 'gmean', 'pmean', 'rmean']:\n",
    "    train_preds['w' + blend] = compute_blend(train_preds, preds, blend, CFG, weights = np.array(sorted_weights))\n",
    "\n",
    "# compute performance\n",
    "print('-' * 16)\n",
    "print('{:<10}{:>5}'.format('Blend', 'AUC'))\n",
    "print('-' * 16)\n",
    "for blend in ['amean', 'median', 'gmean', 'pmean', 'rmean']:\n",
    "    score = 0\n",
    "    for fold_idx in range(5):\n",
    "        tmp_train_preds = train_preds.loc[train_preds['fold'] == fold_idx]\n",
    "        score += get_score(tmp_train_preds['target'].values, \n",
    "                           tmp_train_preds[blend].values) / 5\n",
    "    print('{:<10}{:>5.4f}'.format(blend, score))    \n",
    "print('-' * 16)\n",
    "for blend in ['amean', 'median', 'gmean', 'pmean', 'rmean']:\n",
    "    score = 0\n",
    "    for fold_idx in range(5):\n",
    "        tmp_train_preds = train_preds.loc[train_preds['fold'] == fold_idx]\n",
    "        score += get_score(tmp_train_preds['target'].values, \n",
    "                           tmp_train_preds['w' + blend].values) / 5\n",
    "    print('{:<10}{:>5.4f}'.format('w' + blend, score))    \n",
    "print('-' * 16)"
   ]
  },
  {
   "cell_type": "code",
   "execution_count": 10,
   "metadata": {
    "papermill": {
     "duration": 0.451733,
     "end_time": "2021-02-17T10:42:50.111320",
     "exception": false,
     "start_time": "2021-02-17T10:42:49.659587",
     "status": "completed"
    },
    "tags": []
   },
   "outputs": [
    {
     "data": {
      "text/html": [
       "<div>\n",
       "<style scoped>\n",
       "    .dataframe tbody tr th:only-of-type {\n",
       "        vertical-align: middle;\n",
       "    }\n",
       "\n",
       "    .dataframe tbody tr th {\n",
       "        vertical-align: top;\n",
       "    }\n",
       "\n",
       "    .dataframe thead th {\n",
       "        text-align: right;\n",
       "    }\n",
       "</style>\n",
       "<table border=\"1\" class=\"dataframe\">\n",
       "  <thead>\n",
       "    <tr style=\"text-align: right;\">\n",
       "      <th></th>\n",
       "      <th>id</th>\n",
       "      <th>target</th>\n",
       "      <th>pred</th>\n",
       "    </tr>\n",
       "  </thead>\n",
       "  <tbody>\n",
       "    <tr>\n",
       "      <th>0</th>\n",
       "      <td>00001f4945</td>\n",
       "      <td>0</td>\n",
       "      <td>0.231382</td>\n",
       "    </tr>\n",
       "    <tr>\n",
       "      <th>1</th>\n",
       "      <td>0002402e11</td>\n",
       "      <td>0</td>\n",
       "      <td>0.346109</td>\n",
       "    </tr>\n",
       "    <tr>\n",
       "      <th>2</th>\n",
       "      <td>00026ce3c5</td>\n",
       "      <td>0</td>\n",
       "      <td>0.177322</td>\n",
       "    </tr>\n",
       "    <tr>\n",
       "      <th>3</th>\n",
       "      <td>000288e4a5</td>\n",
       "      <td>1</td>\n",
       "      <td>0.999902</td>\n",
       "    </tr>\n",
       "    <tr>\n",
       "      <th>4</th>\n",
       "      <td>0002b64784</td>\n",
       "      <td>1</td>\n",
       "      <td>0.205845</td>\n",
       "    </tr>\n",
       "  </tbody>\n",
       "</table>\n",
       "</div>"
      ],
      "text/plain": [
       "           id  target      pred\n",
       "0  00001f4945       0  0.231382\n",
       "1  0002402e11       0  0.346109\n",
       "2  00026ce3c5       0  0.177322\n",
       "3  000288e4a5       1  0.999902\n",
       "4  0002b64784       1  0.205845"
      ]
     },
     "execution_count": 10,
     "metadata": {},
     "output_type": "execute_result"
    }
   ],
   "source": [
    "####### EXPORT BEST BLEND [OOF]\n",
    "\n",
    "# select best blend\n",
    "best_blend = 'gmean'\n",
    "\n",
    "# export CSV\n",
    "oof_blend = train_preds[['id', 'target', best_blend]].copy()\n",
    "oof_blend.columns = ['id', 'target', 'pred']\n",
    "oof_blend.to_csv(CFG['out_path'] + 'oof_{}.csv'.format(best_blend), index = False)\n",
    "oof_blend.head()"
   ]
  },
  {
   "cell_type": "code",
   "execution_count": 11,
   "metadata": {},
   "outputs": [
    {
     "name": "stdout",
     "output_type": "stream",
     "text": [
      "Blending fold predictions with: gmean\n",
      "Blending model predictions with: gmean\n"
     ]
    },
    {
     "data": {
      "text/html": [
       "<div>\n",
       "<style scoped>\n",
       "    .dataframe tbody tr th:only-of-type {\n",
       "        vertical-align: middle;\n",
       "    }\n",
       "\n",
       "    .dataframe tbody tr th {\n",
       "        vertical-align: top;\n",
       "    }\n",
       "\n",
       "    .dataframe thead th {\n",
       "        text-align: right;\n",
       "    }\n",
       "</style>\n",
       "<table border=\"1\" class=\"dataframe\">\n",
       "  <thead>\n",
       "    <tr style=\"text-align: right;\">\n",
       "      <th></th>\n",
       "      <th>id</th>\n",
       "      <th>pred</th>\n",
       "    </tr>\n",
       "  </thead>\n",
       "  <tbody>\n",
       "    <tr>\n",
       "      <th>0</th>\n",
       "      <td>00005bced6</td>\n",
       "      <td>0.999922</td>\n",
       "    </tr>\n",
       "    <tr>\n",
       "      <th>1</th>\n",
       "      <td>0000806717</td>\n",
       "      <td>0.776666</td>\n",
       "    </tr>\n",
       "    <tr>\n",
       "      <th>2</th>\n",
       "      <td>0000ef4fe1</td>\n",
       "      <td>0.362257</td>\n",
       "    </tr>\n",
       "    <tr>\n",
       "      <th>3</th>\n",
       "      <td>00020de251</td>\n",
       "      <td>0.593480</td>\n",
       "    </tr>\n",
       "    <tr>\n",
       "      <th>4</th>\n",
       "      <td>00024887b5</td>\n",
       "      <td>0.188007</td>\n",
       "    </tr>\n",
       "  </tbody>\n",
       "</table>\n",
       "</div>"
      ],
      "text/plain": [
       "           id      pred\n",
       "0  00005bced6  0.999922\n",
       "1  0000806717  0.776666\n",
       "2  0000ef4fe1  0.362257\n",
       "3  00020de251  0.593480\n",
       "4  00024887b5  0.188007"
      ]
     },
     "execution_count": 11,
     "metadata": {},
     "output_type": "execute_result"
    }
   ],
   "source": [
    "####### EXPORT BEST BLEND [TEST]\n",
    "\n",
    "# blend fold predictions\n",
    "print('Blending fold predictions with: ' + CFG['fold_blend'])\n",
    "for m in CFG['models']:\n",
    "    preds = test_preds.filter(like = m).columns\n",
    "    test_preds[m + 'pred'] = compute_blend(test_preds, preds, CFG['fold_blend'], CFG)\n",
    "    test_preds.drop(preds, axis = 1, inplace = True)\n",
    "    \n",
    "# blend model predictions\n",
    "print('Blending model predictions with: ' + CFG['model_blend'])\n",
    "preds = test_preds.filter(like = 'output').columns\n",
    "test_preds['pred'] = compute_blend(test_preds, preds, CFG['model_blend'], CFG) \n",
    "\n",
    "# save CSV\n",
    "test_blend = test_preds[['id', 'pred']].copy()   \n",
    "test_blend.to_csv(CFG['out_path'] + 'sub_{}.csv'.format(best_blend), index = False)\n",
    "test_blend.head()"
   ]
  },
  {
   "cell_type": "code",
   "execution_count": 12,
   "metadata": {},
   "outputs": [
    {
     "data": {
      "image/png": "[encoded data removed]",
      "text/plain": [
       "<Figure size 1080x720 with 2 Axes>"
      ]
     },
     "metadata": {
      "needs_background": "light"
     },
     "output_type": "display_data"
    }
   ],
   "source": [
    "####### CHECK MODEL OOF CORRELATION\n",
    "\n",
    "corr    = train_preds[[m + 'pred' for m in CFG['models']]].corr(method = 'spearman')\n",
    "corr    = corr.where(np.tril(np.ones(corr.shape)).astype(np.bool))\n",
    "fig, ax  = plt.subplots(figsize = (15, 10))\n",
    "ticks   = [m.replace('../output/', '') for m in CFG['models']]\n",
    "hmap    = sns.heatmap(corr, cmap = 'coolwarm', annot = corr, fmt = '.4f', xticklabels = ticks, yticklabels = ticks)\n",
    "plt.yticks(rotation = 0)\n",
    "plt.show()"
   ]
  },
  {
   "cell_type": "markdown",
   "metadata": {},
   "source": [
    "# STACKING"
   ]
  },
  {
   "cell_type": "code",
   "execution_count": 13,
   "metadata": {},
   "outputs": [
    {
     "name": "stdout",
     "output_type": "stream",
     "text": [
      "(560000, 19) (560000,)\n",
      "(226000, 7)\n"
     ]
    }
   ],
   "source": [
    "####### TRANSFORM DATA\n",
    "\n",
    "y      = train_preds['target']\n",
    "X      = train_preds.copy()\n",
    "X_test = test_preds.copy()\n",
    "print(X.shape, y.shape)\n",
    "print(X_test.shape)"
   ]
  },
  {
   "cell_type": "code",
   "execution_count": 14,
   "metadata": {},
   "outputs": [
    {
     "name": "stdout",
     "output_type": "stream",
     "text": [
      "5 features\n"
     ]
    },
    {
     "data": {
      "text/plain": [
       "['../output/v14/pred',\n",
       " '../output/v16/pred',\n",
       " '../output/v11/pred',\n",
       " '../output/v12/pred',\n",
       " '../output/v13/pred']"
      ]
     },
     "execution_count": 14,
     "metadata": {},
     "output_type": "execute_result"
    }
   ],
   "source": [
    "####### SELECT RELEVANT FEATURES\n",
    "\n",
    "features      = list(X_test.columns)\n",
    "drop_features = ['id', 'pred'] \n",
    "features      = [f for f in features if f not in drop_features]\n",
    "print(len(features), 'features')\n",
    "features"
   ]
  },
  {
   "cell_type": "code",
   "execution_count": 15,
   "metadata": {},
   "outputs": [
    {
     "name": "stdout",
     "output_type": "stream",
     "text": [
      "Training until validation scores don't improve for 200 rounds\n",
      "[200]\ttraining's auc: 0.870027\tvalid_1's auc: 0.867081\n",
      "[400]\ttraining's auc: 0.870471\tvalid_1's auc: 0.867481\n",
      "[600]\ttraining's auc: 0.870544\tvalid_1's auc: 0.867522\n",
      "[800]\ttraining's auc: 0.870578\tvalid_1's auc: 0.867518\n",
      "Early stopping, best iteration is:\n",
      "[656]\ttraining's auc: 0.870554\tvalid_1's auc: 0.867526\n",
      "-----------------------------------------------------------------\n",
      "FOLD 1/5: AUC = 0.8675\n",
      "-----------------------------------------------------------------\n",
      " \n",
      "-----------------------------------------------------------------\n",
      "Training until validation scores don't improve for 200 rounds\n",
      "[200]\ttraining's auc: 0.868441\tvalid_1's auc: 0.870359\n",
      "[400]\ttraining's auc: 0.868814\tvalid_1's auc: 0.870687\n",
      "[600]\ttraining's auc: 0.868891\tvalid_1's auc: 0.870721\n",
      "[800]\ttraining's auc: 0.868932\tvalid_1's auc: 0.870725\n",
      "[1000]\ttraining's auc: 0.868962\tvalid_1's auc: 0.870725\n",
      "Early stopping, best iteration is:\n",
      "[952]\ttraining's auc: 0.868956\tvalid_1's auc: 0.870726\n",
      "-----------------------------------------------------------------\n",
      "FOLD 2/5: AUC = 0.8707\n",
      "-----------------------------------------------------------------\n",
      " \n",
      "-----------------------------------------------------------------\n",
      "Training until validation scores don't improve for 200 rounds\n",
      "[200]\ttraining's auc: 0.86873\tvalid_1's auc: 0.869444\n",
      "[400]\ttraining's auc: 0.86911\tvalid_1's auc: 0.869815\n",
      "[600]\ttraining's auc: 0.869178\tvalid_1's auc: 0.869909\n",
      "[800]\ttraining's auc: 0.869208\tvalid_1's auc: 0.86995\n",
      "[1000]\ttraining's auc: 0.869235\tvalid_1's auc: 0.869962\n",
      "[1200]\ttraining's auc: 0.869284\tvalid_1's auc: 0.869966\n",
      "Early stopping, best iteration is:\n",
      "[1129]\ttraining's auc: 0.869266\tvalid_1's auc: 0.869967\n",
      "-----------------------------------------------------------------\n",
      "FOLD 3/5: AUC = 0.8700\n",
      "-----------------------------------------------------------------\n",
      " \n",
      "-----------------------------------------------------------------\n",
      "Training until validation scores don't improve for 200 rounds\n",
      "[200]\ttraining's auc: 0.869049\tvalid_1's auc: 0.869069\n",
      "[400]\ttraining's auc: 0.8694\tvalid_1's auc: 0.86931\n",
      "[600]\ttraining's auc: 0.869467\tvalid_1's auc: 0.869355\n",
      "[800]\ttraining's auc: 0.869503\tvalid_1's auc: 0.869373\n",
      "[1000]\ttraining's auc: 0.869535\tvalid_1's auc: 0.869387\n",
      "[1200]\ttraining's auc: 0.869589\tvalid_1's auc: 0.869376\n",
      "Early stopping, best iteration is:\n",
      "[1079]\ttraining's auc: 0.869553\tvalid_1's auc: 0.869391\n",
      "-----------------------------------------------------------------\n",
      "FOLD 4/5: AUC = 0.8694\n",
      "-----------------------------------------------------------------\n",
      " \n",
      "-----------------------------------------------------------------\n",
      "Training until validation scores don't improve for 200 rounds\n",
      "[200]\ttraining's auc: 0.868326\tvalid_1's auc: 0.8705\n",
      "[400]\ttraining's auc: 0.868721\tvalid_1's auc: 0.870927\n",
      "[600]\ttraining's auc: 0.86881\tvalid_1's auc: 0.870965\n",
      "[800]\ttraining's auc: 0.868849\tvalid_1's auc: 0.870972\n",
      "[1000]\ttraining's auc: 0.868885\tvalid_1's auc: 0.870977\n",
      "[1200]\ttraining's auc: 0.868931\tvalid_1's auc: 0.870981\n",
      "[1400]\ttraining's auc: 0.869017\tvalid_1's auc: 0.87098\n",
      "Early stopping, best iteration is:\n",
      "[1323]\ttraining's auc: 0.868979\tvalid_1's auc: 0.870984\n",
      "-----------------------------------------------------------------\n",
      "FOLD 5/5: AUC = 0.8710\n",
      "-----------------------------------------------------------------\n",
      " \n",
      "-----------------------------------------------------------------\n",
      "OOF AUC = 0.8697\n",
      "-----------------------------------------------------------------\n"
     ]
    }
   ],
   "source": [
    "####### STACKING LOOP\n",
    "\n",
    "# placeholders\n",
    "oof_preds     = np.zeros(len(X))\n",
    "oof_scores    = []\n",
    "all_lgb_preds = None\n",
    "importances   = pd.DataFrame()\n",
    "\n",
    "# cross-validation\n",
    "for fold in range(CFG['lgb_folds']):\n",
    "    \n",
    "    # extract indices\n",
    "    trn_idx = X.loc[X['fold'] != fold].index\n",
    "    val_idx = X.loc[X['fold'] == fold].index\n",
    "\n",
    "    # placeholders\n",
    "    lgb_preds = np.zeros(len(X_test))\n",
    "\n",
    "    # extract samples\n",
    "    X_train, y_train = X.iloc[trn_idx][features], y.iloc[trn_idx]\n",
    "    X_valid, y_valid = X.iloc[val_idx][features], y.iloc[val_idx]\n",
    "    X_test           = X_test[features]\n",
    "\n",
    "    # modeling\n",
    "    clf = lgb.LGBMRegressor(**CFG['lgb_params']) \n",
    "    clf = clf.fit(X_train, y_train, \n",
    "                  eval_set              = [(X_train, y_train), (X_valid, y_valid)],\n",
    "                  early_stopping_rounds = CFG['lgb_stop_rounds'],\n",
    "                  verbose               = 200)\n",
    "\n",
    "    # prediction\n",
    "    oof_preds[val_idx] = clf.predict(X_valid)\n",
    "    lgb_preds          = clf.predict(X_test)\n",
    "\n",
    "    # save preditions\n",
    "    lgb_preds     = pd.DataFrame(lgb_preds, columns = ['lgb_fold{}'.format(fold)])\n",
    "    all_lgb_preds = pd.concat([all_lgb_preds, lgb_preds], axis = 1)\n",
    "\n",
    "    # feature importance\n",
    "    fold_importance_df               = pd.DataFrame()\n",
    "    fold_importance_df['Feature']    = features\n",
    "    fold_importance_df['Importance'] = clf.feature_importances_\n",
    "    importances = pd.concat([importances, fold_importance_df], axis = 0)\n",
    "\n",
    "    # information\n",
    "    oof_scores.append(get_score(y_valid, oof_preds[val_idx]))\n",
    "    print('-' * 65)\n",
    "    print('FOLD {}/{}: AUC = {:.4f}'.format(fold + 1, CFG['lgb_folds'], oof_scores[fold]))\n",
    "    print('-' * 65)\n",
    "    print(' ')\n",
    "    print('-' * 65)\n",
    "\n",
    "# print performance\n",
    "print('OOF AUC = {:.4f}'.format(np.mean(oof_scores))) \n",
    "print('-' * 65)"
   ]
  },
  {
   "cell_type": "code",
   "execution_count": 16,
   "metadata": {},
   "outputs": [
    {
     "data": {
      "image/png": "[encoded data removed]",
      "text/plain": [
       "<Figure size 720x360 with 1 Axes>"
      ]
     },
     "metadata": {
      "needs_background": "light"
     },
     "output_type": "display_data"
    }
   ],
   "source": [
    "###### FEATURE IMPORTANCE\n",
    "\n",
    "fig   = plt.figure(figsize = (10, 5))\n",
    "cols = importances[['Feature', 'Importance']].groupby('Feature').mean().sort_values(by = 'Importance', ascending = False).index\n",
    "importance = importances.loc[importances.Feature.isin(cols)].groupby('Feature').mean().reset_index(drop = False)\n",
    "sns.barplot(x = 'Importance', y = 'Feature', data = importance.sort_values(by = 'Importance', ascending = False), ci = 0)\n",
    "plt.title('Feature Importance')\n",
    "plt.tight_layout()"
   ]
  },
  {
   "cell_type": "code",
   "execution_count": 17,
   "metadata": {},
   "outputs": [
    {
     "name": "stdout",
     "output_type": "stream",
     "text": [
      "Blending fold predictions with: gmean\n"
     ]
    },
    {
     "data": {
      "text/html": [
       "<div>\n",
       "<style scoped>\n",
       "    .dataframe tbody tr th:only-of-type {\n",
       "        vertical-align: middle;\n",
       "    }\n",
       "\n",
       "    .dataframe tbody tr th {\n",
       "        vertical-align: top;\n",
       "    }\n",
       "\n",
       "    .dataframe thead th {\n",
       "        text-align: right;\n",
       "    }\n",
       "</style>\n",
       "<table border=\"1\" class=\"dataframe\">\n",
       "  <thead>\n",
       "    <tr style=\"text-align: right;\">\n",
       "      <th></th>\n",
       "      <th>id</th>\n",
       "      <th>pred</th>\n",
       "    </tr>\n",
       "  </thead>\n",
       "  <tbody>\n",
       "    <tr>\n",
       "      <th>0</th>\n",
       "      <td>00005bced6</td>\n",
       "      <td>0.999834</td>\n",
       "    </tr>\n",
       "    <tr>\n",
       "      <th>1</th>\n",
       "      <td>0000806717</td>\n",
       "      <td>0.928497</td>\n",
       "    </tr>\n",
       "    <tr>\n",
       "      <th>2</th>\n",
       "      <td>0000ef4fe1</td>\n",
       "      <td>0.330047</td>\n",
       "    </tr>\n",
       "    <tr>\n",
       "      <th>3</th>\n",
       "      <td>00020de251</td>\n",
       "      <td>0.817308</td>\n",
       "    </tr>\n",
       "    <tr>\n",
       "      <th>4</th>\n",
       "      <td>00024887b5</td>\n",
       "      <td>0.172173</td>\n",
       "    </tr>\n",
       "  </tbody>\n",
       "</table>\n",
       "</div>"
      ],
      "text/plain": [
       "           id      pred\n",
       "0  00005bced6  0.999834\n",
       "1  0000806717  0.928497\n",
       "2  0000ef4fe1  0.330047\n",
       "3  00020de251  0.817308\n",
       "4  00024887b5  0.172173"
      ]
     },
     "execution_count": 17,
     "metadata": {},
     "output_type": "execute_result"
    }
   ],
   "source": [
    "####### BLEND FOLD PREDICTIONS\n",
    "\n",
    "# copy predictions\n",
    "test_preds_lgb       = all_lgb_preds.copy()\n",
    "test_preds_lgb['id'] = test_preds['id']\n",
    "\n",
    "# blend folds\n",
    "print('Blending fold predictions with: ' + CFG['fold_blend'])\n",
    "preds = ['lgb_fold' + str(fold) for fold in range(CFG['lgb_folds'])]\n",
    "test_preds_lgb['pred'] = compute_blend(test_preds_lgb, preds, CFG['fold_blend'], CFG)\n",
    "test_preds_lgb.drop(preds, axis = 1, inplace = True)\n",
    "test_preds_lgb.head()"
   ]
  },
  {
   "cell_type": "code",
   "execution_count": 18,
   "metadata": {},
   "outputs": [
    {
     "data": {
      "image/png": "[encoded data removed]",
      "text/plain": [
       "<Figure size 432x288 with 1 Axes>"
      ]
     },
     "metadata": {
      "needs_background": "light"
     },
     "output_type": "display_data"
    },
    {
     "name": "stdout",
     "output_type": "stream",
     "text": [
      "- optimal weight of stacking:  0.9000\n",
      "- AUC of blend-stack ensemble: 0.8697\n"
     ]
    }
   ],
   "source": [
    "####### OPTIMAL STACKING WEIGHT\n",
    "\n",
    "# placeholders\n",
    "score_steps = 100\n",
    "scores      = []\n",
    "\n",
    "# optimize stacking weight\n",
    "for a in range(score_steps + 1):\n",
    "    w    = a / score_steps\n",
    "    train_preds['ensemble'] = oof_preds * w + oof_blend['pred'] * (1 - w)\n",
    "    score = 0\n",
    "    for fold_idx in range(5):\n",
    "        tmp_train = train_preds.loc[train_preds['fold'] == fold_idx]\n",
    "        score += get_score(tmp_train['target'].values, \n",
    "                           tmp_train['ensemble'].values) / 5\n",
    "    scores.append(score)\n",
    "plt.plot(scores)\n",
    "plt.show()\n",
    "\n",
    "# feedback\n",
    "w_stack = scores.index(max(scores)) / score_steps\n",
    "print('- optimal weight of stacking:  {:.4f}'.format(w_stack))\n",
    "print('- AUC of blend-stack ensemble: {:.4f}'.format(max(scores)))"
   ]
  },
  {
   "cell_type": "markdown",
   "metadata": {},
   "source": [
    "# SUBMISSION"
   ]
  },
  {
   "cell_type": "code",
   "execution_count": 19,
   "metadata": {},
   "outputs": [
    {
     "name": "stdout",
     "output_type": "stream",
     "text": [
      "Ensembling: 0.00 * blend + 1.00 * stacking\n"
     ]
    },
    {
     "data": {
      "text/html": [
       "<div>\n",
       "<style scoped>\n",
       "    .dataframe tbody tr th:only-of-type {\n",
       "        vertical-align: middle;\n",
       "    }\n",
       "\n",
       "    .dataframe tbody tr th {\n",
       "        vertical-align: top;\n",
       "    }\n",
       "\n",
       "    .dataframe thead th {\n",
       "        text-align: right;\n",
       "    }\n",
       "</style>\n",
       "<table border=\"1\" class=\"dataframe\">\n",
       "  <thead>\n",
       "    <tr style=\"text-align: right;\">\n",
       "      <th></th>\n",
       "      <th>id</th>\n",
       "      <th>../output/v14/pred</th>\n",
       "      <th>../output/v16/pred</th>\n",
       "      <th>../output/v11/pred</th>\n",
       "      <th>../output/v12/pred</th>\n",
       "      <th>../output/v13/pred</th>\n",
       "      <th>pred</th>\n",
       "    </tr>\n",
       "  </thead>\n",
       "  <tbody>\n",
       "    <tr>\n",
       "      <th>0</th>\n",
       "      <td>00005bced6</td>\n",
       "      <td>0.999902</td>\n",
       "      <td>0.999902</td>\n",
       "      <td>1.000000</td>\n",
       "      <td>1.000000</td>\n",
       "      <td>0.999805</td>\n",
       "      <td>0.999834</td>\n",
       "    </tr>\n",
       "    <tr>\n",
       "      <th>1</th>\n",
       "      <td>0000806717</td>\n",
       "      <td>0.528404</td>\n",
       "      <td>0.656319</td>\n",
       "      <td>0.905429</td>\n",
       "      <td>0.949375</td>\n",
       "      <td>0.947974</td>\n",
       "      <td>0.928497</td>\n",
       "    </tr>\n",
       "    <tr>\n",
       "      <th>2</th>\n",
       "      <td>0000ef4fe1</td>\n",
       "      <td>0.447007</td>\n",
       "      <td>0.388123</td>\n",
       "      <td>0.370153</td>\n",
       "      <td>0.269904</td>\n",
       "      <td>0.359921</td>\n",
       "      <td>0.330047</td>\n",
       "    </tr>\n",
       "    <tr>\n",
       "      <th>3</th>\n",
       "      <td>00020de251</td>\n",
       "      <td>0.441438</td>\n",
       "      <td>0.270129</td>\n",
       "      <td>0.824096</td>\n",
       "      <td>0.898768</td>\n",
       "      <td>0.833611</td>\n",
       "      <td>0.817308</td>\n",
       "    </tr>\n",
       "    <tr>\n",
       "      <th>4</th>\n",
       "      <td>00024887b5</td>\n",
       "      <td>0.167886</td>\n",
       "      <td>0.189600</td>\n",
       "      <td>0.254582</td>\n",
       "      <td>0.188688</td>\n",
       "      <td>0.153619</td>\n",
       "      <td>0.172173</td>\n",
       "    </tr>\n",
       "  </tbody>\n",
       "</table>\n",
       "</div>"
      ],
      "text/plain": [
       "           id  ../output/v14/pred  ../output/v16/pred  ../output/v11/pred  \\\n",
       "0  00005bced6            0.999902            0.999902            1.000000   \n",
       "1  0000806717            0.528404            0.656319            0.905429   \n",
       "2  0000ef4fe1            0.447007            0.388123            0.370153   \n",
       "3  00020de251            0.441438            0.270129            0.824096   \n",
       "4  00024887b5            0.167886            0.189600            0.254582   \n",
       "\n",
       "   ../output/v12/pred  ../output/v13/pred      pred  \n",
       "0            1.000000            0.999805  0.999834  \n",
       "1            0.949375            0.947974  0.928497  \n",
       "2            0.269904            0.359921  0.330047  \n",
       "3            0.898768            0.833611  0.817308  \n",
       "4            0.188688            0.153619  0.172173  "
      ]
     },
     "execution_count": 19,
     "metadata": {},
     "output_type": "execute_result"
    }
   ],
   "source": [
    "####### ENSEMBLING BLEND AND STACKING\n",
    "\n",
    "print('Ensembling: {:.2f} * blend + {:.2f} * stacking'.format(1 - CFG['w_stack'], CFG['w_stack']))\n",
    "final_preds         = test_preds.copy()\n",
    "final_preds['pred'] = test_preds['pred'] * (1 - CFG['w_stack']) + test_preds_lgb['pred'] * CFG['w_stack']\n",
    "final_preds.head()"
   ]
  },
  {
   "cell_type": "code",
   "execution_count": 20,
   "metadata": {},
   "outputs": [
    {
     "data": {
      "text/html": [
       "<div>\n",
       "<style scoped>\n",
       "    .dataframe tbody tr th:only-of-type {\n",
       "        vertical-align: middle;\n",
       "    }\n",
       "\n",
       "    .dataframe tbody tr th {\n",
       "        vertical-align: top;\n",
       "    }\n",
       "\n",
       "    .dataframe thead th {\n",
       "        text-align: right;\n",
       "    }\n",
       "</style>\n",
       "<table border=\"1\" class=\"dataframe\">\n",
       "  <thead>\n",
       "    <tr style=\"text-align: right;\">\n",
       "      <th></th>\n",
       "      <th>id</th>\n",
       "      <th>target</th>\n",
       "    </tr>\n",
       "  </thead>\n",
       "  <tbody>\n",
       "    <tr>\n",
       "      <th>0</th>\n",
       "      <td>00005bced6</td>\n",
       "      <td>0.962060</td>\n",
       "    </tr>\n",
       "    <tr>\n",
       "      <th>1</th>\n",
       "      <td>0000806717</td>\n",
       "      <td>0.767053</td>\n",
       "    </tr>\n",
       "    <tr>\n",
       "      <th>2</th>\n",
       "      <td>0000ef4fe1</td>\n",
       "      <td>0.494655</td>\n",
       "    </tr>\n",
       "    <tr>\n",
       "      <th>3</th>\n",
       "      <td>00020de251</td>\n",
       "      <td>0.738168</td>\n",
       "    </tr>\n",
       "    <tr>\n",
       "      <th>4</th>\n",
       "      <td>00024887b5</td>\n",
       "      <td>0.150553</td>\n",
       "    </tr>\n",
       "  </tbody>\n",
       "</table>\n",
       "</div>"
      ],
      "text/plain": [
       "           id    target\n",
       "0  00005bced6  0.962060\n",
       "1  0000806717  0.767053\n",
       "2  0000ef4fe1  0.494655\n",
       "3  00020de251  0.738168\n",
       "4  00024887b5  0.150553"
      ]
     },
     "metadata": {},
     "output_type": "display_data"
    }
   ],
   "source": [
    "####### SUBMISSION FILE\n",
    "\n",
    "sub = final_preds[['id', 'pred']].copy()   \n",
    "sub.columns = ['id', 'target']\n",
    "sub['target'] = sub['target'].rank(pct = True)\n",
    "sub.to_csv(CFG['out_path'] + 'submission.csv', index = False)\n",
    "display(sub.head())"
   ]
  }
 ],
 "metadata": {
  "kernelspec": {
   "display_name": "Python 3",
   "language": "python",
   "name": "python3"
  },
  "language_info": {
   "codemirror_mode": {
    "name": "ipython",
    "version": 3
   },
   "file_extension": ".py",
   "mimetype": "text/x-python",
   "name": "python",
   "nbconvert_exporter": "python",
   "pygments_lexer": "ipython3",
   "version": "3.8.8"
  },
  "papermill": {
   "default_parameters": {},
   "duration": 144.763392,
   "end_time": "2021-02-17T10:44:57.683440",
   "environment_variables": {},
   "exception": null,
   "input_path": "__notebook__.ipynb",
   "output_path": "__notebook__.ipynb",
   "parameters": {},
   "start_time": "2021-02-17T10:42:32.920048",
   "version": "2.2.2"
  }
 },
 "nbformat": 4,
 "nbformat_minor": 4
}

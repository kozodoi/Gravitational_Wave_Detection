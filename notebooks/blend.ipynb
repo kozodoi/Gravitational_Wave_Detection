{
 "cells": [
  {
   "cell_type": "code",
   "execution_count": null,
   "id": "french-jonathan",
   "metadata": {},
   "outputs": [],
   "source": [
    "import numpy as np\n",
    "import pandas as pd"
   ]
  },
  {
   "cell_type": "markdown",
   "id": "synthetic-elder",
   "metadata": {
    "tags": []
   },
   "source": [
    "# BLEND OF MY MODELS"
   ]
  },
  {
   "cell_type": "code",
   "execution_count": null,
   "id": "covered-motorcycle",
   "metadata": {},
   "outputs": [],
   "source": [
    "v17 = pd.read_csv('../output/v17/submission.csv')\n",
    "v17.head()"
   ]
  },
  {
   "cell_type": "code",
   "execution_count": null,
   "id": "warming-suicide",
   "metadata": {
    "tags": []
   },
   "outputs": [],
   "source": [
    "v18 = pd.read_csv('../output/v18/submission.csv')\n",
    "v18.head()"
   ]
  },
  {
   "cell_type": "code",
   "execution_count": null,
   "id": "fallen-reception",
   "metadata": {},
   "outputs": [],
   "source": [
    "v19 = pd.read_csv('../output/v19/submission.csv')\n",
    "v19.head()"
   ]
  },
  {
   "cell_type": "code",
   "execution_count": null,
   "id": "breathing-worthy",
   "metadata": {},
   "outputs": [],
   "source": [
    "df = pd.DataFrame({'id':  v17['id'],\n",
    "                   'v17': v17['pred_fold0'],\n",
    "                   'v18': v18['pred_fold0'],\n",
    "                   'v19': v19['pred_fold0']})\n",
    "df.head()"
   ]
  },
  {
   "cell_type": "code",
   "execution_count": null,
   "id": "unsigned-cedar",
   "metadata": {},
   "outputs": [],
   "source": [
    "weights = np.array([0.40, 0.35, 0.25])\n",
    "preds   = ['v17', 'v18', 'v19']"
   ]
  },
  {
   "cell_type": "code",
   "execution_count": null,
   "id": "nonprofit-communications",
   "metadata": {},
   "outputs": [],
   "source": [
    "df['target'] = np.prod(np.power(df[preds].values, weights), axis = 1)\n",
    "df.head()"
   ]
  },
  {
   "cell_type": "code",
   "execution_count": null,
   "id": "expected-collins",
   "metadata": {},
   "outputs": [],
   "source": [
    "sub = df[['id', 'target']].copy()   \n",
    "#sub['target'] = sub['target'].rank(pct = True)\n",
    "sub.to_csv('../output/blend/sub_blend.csv', index = False)\n",
    "display(sub.head())"
   ]
  },
  {
   "cell_type": "markdown",
   "id": "contained-commission",
   "metadata": {
    "tags": []
   },
   "source": [
    "# STACK OF MY MODELS"
   ]
  },
  {
   "cell_type": "code",
   "execution_count": null,
   "id": "documented-treasury",
   "metadata": {},
   "outputs": [],
   "source": [
    "sub = pd.read_csv('../output/blend/sub_blend.csv')\n",
    "sub.head()"
   ]
  },
  {
   "cell_type": "code",
   "execution_count": null,
   "id": "according-replacement",
   "metadata": {
    "tags": []
   },
   "outputs": [],
   "source": [
    "df_stack = pd.read_csv('../output/blend/submission.csv')\n",
    "df_stack.head()"
   ]
  },
  {
   "cell_type": "code",
   "execution_count": null,
   "id": "dimensional-delivery",
   "metadata": {},
   "outputs": [],
   "source": [
    "w_stack = 0.40"
   ]
  },
  {
   "cell_type": "code",
   "execution_count": null,
   "id": "controlling-message",
   "metadata": {},
   "outputs": [],
   "source": [
    "sub['target'] = sub['target']**(1 - w_stack) * df_stack['target']**(w_stack)\n",
    "#sub['target'] = sub['target'].rank(pct = True)\n",
    "sub.to_csv('../output/blend/sub_blend_stack.csv', index = False)\n",
    "display(sub.head())"
   ]
  },
  {
   "cell_type": "markdown",
   "id": "forbidden-washington",
   "metadata": {
    "tags": []
   },
   "source": [
    "# BLEND OF PUBLIC MODELS"
   ]
  },
  {
   "cell_type": "code",
   "execution_count": null,
   "id": "useful-shooting",
   "metadata": {},
   "outputs": [],
   "source": [
    "p1 = pd.read_csv('../output/public/sub_1_8779.csv')\n",
    "p1.head()"
   ]
  },
  {
   "cell_type": "code",
   "execution_count": null,
   "id": "mathematical-james",
   "metadata": {
    "tags": []
   },
   "outputs": [],
   "source": [
    "p2 = pd.read_csv('../output/public/sub_3_8779.csv')\n",
    "p2.head()"
   ]
  },
  {
   "cell_type": "code",
   "execution_count": null,
   "id": "opponent-tonight",
   "metadata": {},
   "outputs": [],
   "source": [
    "p3 = pd.read_csv('../output/public/sub_b3b7_8779.csv')\n",
    "p3.head()"
   ]
  },
  {
   "cell_type": "code",
   "execution_count": null,
   "id": "quiet-income",
   "metadata": {},
   "outputs": [],
   "source": [
    "df = pd.DataFrame({'id': p1['id'],\n",
    "                   'p1': p1['target'],\n",
    "                   'p2': p2['target'],\n",
    "                   'p3': p3['target']})\n",
    "df.head()"
   ]
  },
  {
   "cell_type": "code",
   "execution_count": null,
   "id": "dying-fifty",
   "metadata": {},
   "outputs": [],
   "source": [
    "weights = np.array([1/3, 1/3, 1/3])\n",
    "preds   = ['p1', 'p2', 'p3']"
   ]
  },
  {
   "cell_type": "code",
   "execution_count": null,
   "id": "secret-dakota",
   "metadata": {},
   "outputs": [],
   "source": [
    "df['target'] = np.prod(np.power(df[preds].values, weights), axis = 1)\n",
    "df.head()"
   ]
  },
  {
   "cell_type": "code",
   "execution_count": null,
   "id": "coated-edgar",
   "metadata": {},
   "outputs": [],
   "source": [
    "sub = df[['id', 'target']].copy()   \n",
    "#sub['target'] = sub['target'].rank(pct = True)\n",
    "sub.to_csv('../output/blend/sub_public_blend.csv', index = False)\n",
    "display(sub.head())"
   ]
  },
  {
   "cell_type": "markdown",
   "id": "protective-egyptian",
   "metadata": {
    "tags": []
   },
   "source": [
    "# ENSEMBLING"
   ]
  },
  {
   "cell_type": "code",
   "execution_count": null,
   "id": "apart-lender",
   "metadata": {},
   "outputs": [],
   "source": [
    "sub = pd.read_csv('../output/blend/sub_public_blend.csv')\n",
    "sub.head()"
   ]
  },
  {
   "cell_type": "code",
   "execution_count": null,
   "id": "polished-abraham",
   "metadata": {
    "tags": []
   },
   "outputs": [],
   "source": [
    "df_my = pd.read_csv('../output/blend/sub_blend_stack.csv')\n",
    "df_my.head()"
   ]
  },
  {
   "cell_type": "code",
   "execution_count": null,
   "id": "according-editing",
   "metadata": {},
   "outputs": [],
   "source": [
    "w_my = 0.60"
   ]
  },
  {
   "cell_type": "code",
   "execution_count": null,
   "id": "vocational-genius",
   "metadata": {},
   "outputs": [],
   "source": [
    "sub['target'] = sub['target']**(1 - w_my) * df_my['target']**(w_my)\n",
    "#sub['target'] = sub['target'].rank(pct = True)\n",
    "sub.to_csv('../output/blend/sub_ensemble.csv', index = False)\n",
    "display(sub.head())"
   ]
  }
 ],
 "metadata": {
  "kernelspec": {
   "display_name": "Python 3",
   "language": "python",
   "name": "python3"
  },
  "language_info": {
   "codemirror_mode": {
    "name": "ipython",
    "version": 3
   },
   "file_extension": ".py",
   "mimetype": "text/x-python",
   "name": "python",
   "nbconvert_exporter": "python",
   "pygments_lexer": "ipython3",
   "version": "3.8.8"
  }
 },
 "nbformat": 4,
 "nbformat_minor": 5
}

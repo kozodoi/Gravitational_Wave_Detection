{
 "cells": [
  {
   "cell_type": "markdown",
   "metadata": {
    "id": "0V4vZ6Qm0ViG",
    "tags": []
   },
   "source": [
    "# 1. PARAMETERS"
   ]
  },
  {
   "cell_type": "code",
   "execution_count": 1,
   "metadata": {
    "id": "ZGLrkTFa0ViK"
   },
   "outputs": [],
   "source": [
    "####### CONFIGURATION\n",
    "\n",
    "class CFG:\n",
    "\n",
    "    # environment\n",
    "    environment  = 'local'  # work environment ['kaggle', 'local']\n",
    "    device       = 'GPU'    # training device ['GPU', 'TPU']\n",
    "    device_index = 1        # device index (when using single device)\n",
    "    num_devices  = 1        # no. GPU/TPU devices (modeling)\n",
    "    cpu_workers  = 4        # no. CPU cores (data loading)\n",
    "\n",
    "    # general\n",
    "    version  = 9      # notebook version (for saving outputs)\n",
    "    debug    = False  # debug mode runs 10 batches for 3 epochs\n",
    "    tracking = True   # track results using neptune.ai\n",
    "    seed     = 13353  # random state\n",
    "\n",
    "    # data\n",
    "    num_folds = 5      # number of CV folds\n",
    "    data_pl   = False  # False or percentage of appended pseudo-labeled data \n",
    "    \n",
    "    # wave transformation params\n",
    "    transform = 'cwt'   # wave transform type ['q', 's', 'cwt']\n",
    "    q_sr      = 2048\n",
    "    q_fmin    = 20\n",
    "    q_fmax    = 1024\n",
    "    q_hop     = 32\n",
    "    q_bins    = 16\n",
    "    \n",
    "    # image processing\n",
    "    channels    = 3                 # no. input channels\n",
    "    p_transpose = 0                 # prob. of transpose\n",
    "    p_flip      = 0                 # prob. of  vertical and horizontal flips \n",
    "    p_aug       = 0                 # prob. of augmentations except for flips\n",
    "    ssr         = [0.10, 0.10, 360] # shift, scale, rotation limits\n",
    "    huesat      = [0, 0, 0]         # hue, saturation, value limits\n",
    "    bricon      = [0, 0]            # brightness, contrast limits\n",
    "    blur_limit  = 0                 # blur limit\n",
    "    cutmix      = [0, 1]            # cutmix batch-level probability, alpha\n",
    "    normalize   = False             # pixel normalization after augmentation\n",
    "        \n",
    "    # architecture\n",
    "    backbone   = 'tf_efficientnet_b0_ns'  # CNN backbone   \n",
    "    pretrained = 'imagenet'               # pretrained weights [False, 'imagenet', path]\n",
    "    \n",
    "    # training\n",
    "    num_epochs    = 8      # no. epochs per fold\n",
    "    max_batches   = False  # max no. batches per training epoch (False or int)\n",
    "    batch_size    = 64     # no. images per batch \n",
    "    accum_iter    = 1      # no. batches for gradient accumulation\n",
    "    use_fp16      = True   # mixed precision mode \n",
    "    grad_clip     = False  # max gradient norm (False or float)\n",
    "    batch_verbose = False  # print loss every n batches\n",
    "    \n",
    "    # loss function\n",
    "    loss_fn = 'BCE'  # loss ['BCE', 'FC']\n",
    "    smooth  = False  # label smoothing (False or float)\n",
    "    \n",
    "    # LR and optimizer\n",
    "    lr    = 5e-4       # starting learning rate\n",
    "    optim = 'madgrad'  # LR optimizer ['Adam', 'AdamW', 'AdamP', 'madgrad']\n",
    "    decay = 0          # weight decay of optimizer (L2 regularization)\n",
    "\n",
    "    # scheduler\n",
    "    warmup       = 1         # no. epochs for warmup\n",
    "    scheduler    = 'cosine'  # LR scheduler after warmup\n",
    "    upd_on_batch = True      # update LR after every batch (or epoch)\n",
    "    \n",
    "    # inference\n",
    "    predict_oof      = True  # whether to produce OOF predictions\n",
    "    predict_test     = True  # whether to produce test predictions \n",
    "    valid_batch_size = 256   # no. images per batch \n",
    "    num_tta          = 1     # no. TTA flips (between 1 and 8)"
   ]
  },
  {
   "cell_type": "code",
   "execution_count": 2,
   "metadata": {
    "id": "ONx3m0TJ2PJ1"
   },
   "outputs": [],
   "source": [
    "####### CONVERT CONFIGURATION\n",
    "\n",
    "CFG = dict(vars(CFG))\n",
    "for key in ['__dict__', '__doc__', '__module__', '__weakref__']:\n",
    "    del CFG[key]"
   ]
  },
  {
   "cell_type": "code",
   "execution_count": 3,
   "metadata": {
    "id": "8a2ClHIAthIY"
   },
   "outputs": [],
   "source": [
    "####### UPDATES FOR DEBUG MODE\n",
    "\n",
    "if CFG['debug']:\n",
    "    CFG['predict_test'] = False\n",
    "    CFG['tracking']     = False\n",
    "    CFG['save_all']     = False\n",
    "    CFG['num_epochs']   = 2\n",
    "    CFG['num_folds']    = 2"
   ]
  },
  {
   "cell_type": "markdown",
   "metadata": {
    "id": "-9ZKt08y0ViT"
   },
   "source": [
    "# 2. PREPARATIONS"
   ]
  },
  {
   "cell_type": "code",
   "execution_count": 4,
   "metadata": {
    "colab": {
     "base_uri": "https://localhost:8080/"
    },
    "id": "S6rE_WKH0ViV",
    "outputId": "cbb5b126-f7d4-4f65-b2ec-9021d3596ee9",
    "tags": []
   },
   "outputs": [],
   "source": [
    "####### PACKAGES\n",
    "\n",
    "if CFG['environment'] != 'local':\n",
    "    !pip install timm transformers accelerate adamp madgrad\n",
    "    !pip install --upgrade -U albumentations\n",
    "    !pip install --upgrade neptune-client\n",
    "    !pip install --upgrade --force-reinstall --no-deps -q kaggle\n",
    "    \n",
    "if CFG['device'] == 'TPU':\n",
    "    !pip install cloud-tpu-client==0.10 'https://storage.googleapis.com/tpu-pytorch/wheels/torch_xla-1.8-cp37-cp37m-linux_x86_64.whl'\n",
    "\n",
    "import numpy as np\n",
    "import pandas as pd\n",
    "import torch\n",
    "\n",
    "import os\n",
    "import sys\n",
    "import time\n",
    "import pickle\n",
    "\n",
    "from sklearn import metrics\n",
    "from sklearn.metrics import confusion_matrix, roc_auc_score\n",
    "from sklearn.model_selection import StratifiedKFold, GroupKFold, KFold\n",
    "\n",
    "from accelerate import notebook_launcher\n",
    "\n",
    "import warnings\n",
    "import gc; gc.enable()"
   ]
  },
  {
   "cell_type": "code",
   "execution_count": 5,
   "metadata": {},
   "outputs": [],
   "source": [
    "####### MODULES\n",
    "\n",
    "# source\n",
    "if CFG['environment'] == 'local':\n",
    "    sys.path.append('../code')  \n",
    "elif CFG['environment'] == 'kaggle':\n",
    "    sys.path.append('../input/seti-code')  \n",
    "\n",
    "# utilities\n",
    "from utilities import *\n",
    "\n",
    "# visualization\n",
    "from sample_batch import sample_batch\n",
    "\n",
    "# training and inference\n",
    "from run_training import run_training\n",
    "from run_inference import run_inference"
   ]
  },
  {
   "cell_type": "code",
   "execution_count": 6,
   "metadata": {
    "id": "2_X93RyNgsJI"
   },
   "outputs": [],
   "source": [
    "####### WORKING PATHS\n",
    "\n",
    "if CFG['environment'] == 'local':\n",
    "    CFG['data_path']  = '../input/'\n",
    "    CFG['out_path']   = '../output/v' + str(CFG['version']) + '/'\n",
    "    if not os.path.exists(CFG['out_path']):\n",
    "        os.mkdir(CFG['out_path'])\n",
    "        \n",
    "elif CFG['environment'] == 'kaggle':\n",
    "    CFG['data_path']  = '../input/seti-breakthrough-listen/'\n",
    "    CFG['out_path']   = ''"
   ]
  },
  {
   "cell_type": "code",
   "execution_count": 7,
   "metadata": {
    "colab": {
     "base_uri": "https://localhost:8080/"
    },
    "id": "WNePNOxvCCkS",
    "outputId": "a423aa41-e716-42d6-d8b2-80b7f670bf05",
    "tags": []
   },
   "outputs": [
    {
     "name": "stdout",
     "output_type": "stream",
     "text": [
      "https://app.neptune.ai/ml_comps/g2net/e/GNET-92\n"
     ]
    }
   ],
   "source": [
    "####### TRACKING WITH NEPTUNE\n",
    "\n",
    "if CFG['tracking']:\n",
    "    import neptune \n",
    "    neptune.init(api_token              = 'YOUR-API_TOKEN',\n",
    "                 project_qualified_name = 'YOUR-PROJECT')\n",
    "    neptune.create_experiment(name = 'v' + str(CFG['version']), params = CFG) "
   ]
  },
  {
   "cell_type": "code",
   "execution_count": 8,
   "metadata": {
    "colab": {
     "base_uri": "https://localhost:8080/"
    },
    "id": "UPuaITycSayz",
    "outputId": "335ab793-890a-465a-c744-713475733c85"
   },
   "outputs": [
    {
     "name": "stdout",
     "output_type": "stream",
     "text": [
      "- setting random seed to 13353...\n"
     ]
    }
   ],
   "source": [
    "####### SETTINGS\n",
    "\n",
    "warnings.filterwarnings('ignore')       # ignoring warnings\n",
    "pd.options.display.max_columns = 100    # maximum displayed columns\n",
    "torch.backends.cudnn.benchmark = False  # set to True if NN inputs are the same size\n",
    "seed_everything(CFG['seed'])            # random seed"
   ]
  },
  {
   "cell_type": "markdown",
   "metadata": {
    "id": "T2OuAGJw0Viv"
   },
   "source": [
    "# 3. DATA PREP"
   ]
  },
  {
   "cell_type": "code",
   "execution_count": 9,
   "metadata": {},
   "outputs": [
    {
     "name": "stdout",
     "output_type": "stream",
     "text": [
      "no. classes: 2\n",
      "train shape: (560000, 4)\n"
     ]
    },
    {
     "data": {
      "text/html": [
       "<div>\n",
       "<style scoped>\n",
       "    .dataframe tbody tr th:only-of-type {\n",
       "        vertical-align: middle;\n",
       "    }\n",
       "\n",
       "    .dataframe tbody tr th {\n",
       "        vertical-align: top;\n",
       "    }\n",
       "\n",
       "    .dataframe thead th {\n",
       "        text-align: right;\n",
       "    }\n",
       "</style>\n",
       "<table border=\"1\" class=\"dataframe\">\n",
       "  <thead>\n",
       "    <tr style=\"text-align: right;\">\n",
       "      <th>target</th>\n",
       "      <th>0</th>\n",
       "      <th>1</th>\n",
       "    </tr>\n",
       "    <tr>\n",
       "      <th>fold</th>\n",
       "      <th></th>\n",
       "      <th></th>\n",
       "    </tr>\n",
       "  </thead>\n",
       "  <tbody>\n",
       "    <tr>\n",
       "      <th>0</th>\n",
       "      <td>28007</td>\n",
       "      <td>27993</td>\n",
       "    </tr>\n",
       "    <tr>\n",
       "      <th>1</th>\n",
       "      <td>28007</td>\n",
       "      <td>27993</td>\n",
       "    </tr>\n",
       "    <tr>\n",
       "      <th>2</th>\n",
       "      <td>28007</td>\n",
       "      <td>27993</td>\n",
       "    </tr>\n",
       "    <tr>\n",
       "      <th>3</th>\n",
       "      <td>28007</td>\n",
       "      <td>27993</td>\n",
       "    </tr>\n",
       "    <tr>\n",
       "      <th>4</th>\n",
       "      <td>28007</td>\n",
       "      <td>27993</td>\n",
       "    </tr>\n",
       "    <tr>\n",
       "      <th>5</th>\n",
       "      <td>28007</td>\n",
       "      <td>27993</td>\n",
       "    </tr>\n",
       "    <tr>\n",
       "      <th>6</th>\n",
       "      <td>28007</td>\n",
       "      <td>27993</td>\n",
       "    </tr>\n",
       "    <tr>\n",
       "      <th>7</th>\n",
       "      <td>28007</td>\n",
       "      <td>27993</td>\n",
       "    </tr>\n",
       "    <tr>\n",
       "      <th>8</th>\n",
       "      <td>28007</td>\n",
       "      <td>27993</td>\n",
       "    </tr>\n",
       "    <tr>\n",
       "      <th>9</th>\n",
       "      <td>28007</td>\n",
       "      <td>27993</td>\n",
       "    </tr>\n",
       "  </tbody>\n",
       "</table>\n",
       "</div>"
      ],
      "text/plain": [
       "target      0      1\n",
       "fold                \n",
       "0       28007  27993\n",
       "1       28007  27993\n",
       "2       28007  27993\n",
       "3       28007  27993\n",
       "4       28007  27993\n",
       "5       28007  27993\n",
       "6       28007  27993\n",
       "7       28007  27993\n",
       "8       28007  27993\n",
       "9       28007  27993"
      ]
     },
     "execution_count": 9,
     "metadata": {},
     "output_type": "execute_result"
    }
   ],
   "source": [
    "####### TRAIN DATA PROCESSING\n",
    "\n",
    "# import\n",
    "df = pd.read_csv(CFG['data_path'] + 'training_labels.csv')\n",
    "df['file_path'] = df['id'].apply(lambda x: get_train_file_path(x, CFG))\n",
    "\n",
    "# update info\n",
    "CFG['num_classes'] = df['target'].nunique()\n",
    "print('no. classes: {}'.format(CFG['num_classes']))\n",
    "\n",
    "# partitioning\n",
    "folds = StratifiedKFold(n_splits = CFG['num_folds'], shuffle = True, random_state = CFG['seed'])\n",
    "for fold_idx, (trn_idx, val_idx) in enumerate(folds.split(df, df['target'])):\n",
    "    df.loc[val_idx, 'fold'] = int(fold_idx)\n",
    "df['fold'] = df['fold'].astype(int)\n",
    "\n",
    "# display\n",
    "print(f'train shape: {df.shape}')\n",
    "pd.crosstab(df['fold'], df['target'])"
   ]
  },
  {
   "cell_type": "code",
   "execution_count": 10,
   "metadata": {
    "id": "YiVTVu2WSazW"
   },
   "outputs": [
    {
     "name": "stdout",
     "output_type": "stream",
     "text": [
      "test shape: (226000, 3)\n"
     ]
    },
    {
     "data": {
      "text/html": [
       "<div>\n",
       "<style scoped>\n",
       "    .dataframe tbody tr th:only-of-type {\n",
       "        vertical-align: middle;\n",
       "    }\n",
       "\n",
       "    .dataframe tbody tr th {\n",
       "        vertical-align: top;\n",
       "    }\n",
       "\n",
       "    .dataframe thead th {\n",
       "        text-align: right;\n",
       "    }\n",
       "</style>\n",
       "<table border=\"1\" class=\"dataframe\">\n",
       "  <thead>\n",
       "    <tr style=\"text-align: right;\">\n",
       "      <th></th>\n",
       "      <th>id</th>\n",
       "      <th>target</th>\n",
       "      <th>file_path</th>\n",
       "    </tr>\n",
       "  </thead>\n",
       "  <tbody>\n",
       "    <tr>\n",
       "      <th>0</th>\n",
       "      <td>00005bced6</td>\n",
       "      <td>0.5</td>\n",
       "      <td>../input/test/0/0/0/00005bced6.npy</td>\n",
       "    </tr>\n",
       "    <tr>\n",
       "      <th>1</th>\n",
       "      <td>0000806717</td>\n",
       "      <td>0.5</td>\n",
       "      <td>../input/test/0/0/0/0000806717.npy</td>\n",
       "    </tr>\n",
       "    <tr>\n",
       "      <th>2</th>\n",
       "      <td>0000ef4fe1</td>\n",
       "      <td>0.5</td>\n",
       "      <td>../input/test/0/0/0/0000ef4fe1.npy</td>\n",
       "    </tr>\n",
       "    <tr>\n",
       "      <th>3</th>\n",
       "      <td>00020de251</td>\n",
       "      <td>0.5</td>\n",
       "      <td>../input/test/0/0/0/00020de251.npy</td>\n",
       "    </tr>\n",
       "    <tr>\n",
       "      <th>4</th>\n",
       "      <td>00024887b5</td>\n",
       "      <td>0.5</td>\n",
       "      <td>../input/test/0/0/0/00024887b5.npy</td>\n",
       "    </tr>\n",
       "  </tbody>\n",
       "</table>\n",
       "</div>"
      ],
      "text/plain": [
       "           id  target                           file_path\n",
       "0  00005bced6     0.5  ../input/test/0/0/0/00005bced6.npy\n",
       "1  0000806717     0.5  ../input/test/0/0/0/0000806717.npy\n",
       "2  0000ef4fe1     0.5  ../input/test/0/0/0/0000ef4fe1.npy\n",
       "3  00020de251     0.5  ../input/test/0/0/0/00020de251.npy\n",
       "4  00024887b5     0.5  ../input/test/0/0/0/00024887b5.npy"
      ]
     },
     "metadata": {},
     "output_type": "display_data"
    }
   ],
   "source": [
    "###### TEST DATA PROCESSING\n",
    "\n",
    "# import\n",
    "sub = pd.read_csv(CFG['data_path'] + 'sample_submission.csv')\n",
    "sub['file_path'] = sub['id'].apply(lambda x: get_test_file_path(x, CFG))\n",
    "\n",
    "# subset if debug\n",
    "if CFG['debug']:\n",
    "    sub = sub.head(CFG['valid_batch_size'])\n",
    "\n",
    "# display\n",
    "print(f'test shape: {sub.shape}')\n",
    "display(sub.head())"
   ]
  },
  {
   "cell_type": "code",
   "execution_count": 11,
   "metadata": {},
   "outputs": [
    {
     "name": "stdout",
     "output_type": "stream",
     "text": [
      "- setting random seed to 13353...\n",
      "- loading time: 0.2692 vs 0.2260 seconds\n",
      "- inputs shape: torch.Size([3, 3, 512, 297]) vs torch.Size([3, 3, 512, 297])\n",
      "- pixel values: 0.00 | 0.18 | 1.00 vs 0.00 | 0.18 | 1.00\n"
     ]
    },
    {
     "data": {
      "image/png": "[encoded data removed]",
      "text/plain": [
       "<Figure size 1440x360 with 6 Axes>"
      ]
     },
     "metadata": {},
     "output_type": "display_data"
    }
   ],
   "source": [
    "###### SHOW SAMPLE BATCH\n",
    "\n",
    "_ = sample_batch(CFG, df, sample_size = 3, batch_idx = 1)"
   ]
  },
  {
   "cell_type": "markdown",
   "metadata": {
    "id": "NtAEmeT80VjI",
    "tags": []
   },
   "source": [
    "# 4. CROSS-VALIDATION"
   ]
  },
  {
   "cell_type": "code",
   "execution_count": 12,
   "metadata": {
    "colab": {
     "base_uri": "https://localhost:8080/"
    },
    "id": "VIOZZY6cfxBx",
    "outputId": "cc6971e8-acc8-4be0-e3e1-f2a858a6fe7f",
    "tags": []
   },
   "outputs": [
    {
     "name": "stdout",
     "output_type": "stream",
     "text": [
      "-------------------------------------------------------\n",
      "Launching training on one GPU.\n",
      "-------------------------------------------------------\n",
      "FOLD 1/10\n",
      "-------------------------------------------------------\n",
      "- no. images: train - 504000, valid - 56000\n",
      "- setting random seed to 13353...\n",
      "-  p(augment): 0\n",
      "-------------------------------------------------------\n"
     ]
    },
    {
     "data": {
      "application/vnd.jupyter.widget-view+json": {
       "model_id": "e9fc13254acc4e39bd7f3a1d065fd2de",
       "version_major": 2,
       "version_minor": 0
      },
      "text/plain": [
       "  0%|          | 0/7875 [00:00<?, ?it/s]"
      ]
     },
     "metadata": {},
     "output_type": "display_data"
    },
    {
     "data": {
      "application/vnd.jupyter.widget-view+json": {
       "model_id": "8262203484af4d9e86b2b2f83621ce99",
       "version_major": 2,
       "version_minor": 0
      },
      "text/plain": [
       "  0%|          | 0/219 [00:00<?, ?it/s]"
      ]
     },
     "metadata": {},
     "output_type": "display_data"
    },
    {
     "name": "stdout",
     "output_type": "stream",
     "text": [
      "-- epoch 1/8 | lr = 0.000500 | trn_loss = 0.4440 | val_loss = 0.4287 | val_auc = 0.8630 | 75.76 min\n"
     ]
    },
    {
     "data": {
      "application/vnd.jupyter.widget-view+json": {
       "model_id": "66a2cf97659c40a8b6ca21f645ddba85",
       "version_major": 2,
       "version_minor": 0
      },
      "text/plain": [
       "  0%|          | 0/7875 [00:00<?, ?it/s]"
      ]
     },
     "metadata": {},
     "output_type": "display_data"
    },
    {
     "data": {
      "application/vnd.jupyter.widget-view+json": {
       "model_id": "9b6a16700a3f4d348509879c76eff92f",
       "version_major": 2,
       "version_minor": 0
      },
      "text/plain": [
       "  0%|          | 0/219 [00:00<?, ?it/s]"
      ]
     },
     "metadata": {},
     "output_type": "display_data"
    },
    {
     "name": "stdout",
     "output_type": "stream",
     "text": [
      "-- epoch 2/8 | lr = 0.000485 | trn_loss = 0.4174 | val_loss = 0.4159 | val_auc = 0.8693 | 71.75 min\n"
     ]
    },
    {
     "data": {
      "application/vnd.jupyter.widget-view+json": {
       "model_id": "0f11b245684f4d17b41bac4e30b44831",
       "version_major": 2,
       "version_minor": 0
      },
      "text/plain": [
       "  0%|          | 0/7875 [00:00<?, ?it/s]"
      ]
     },
     "metadata": {},
     "output_type": "display_data"
    },
    {
     "data": {
      "application/vnd.jupyter.widget-view+json": {
       "model_id": "bad093598bfc4c7b884cbc92734567b4",
       "version_major": 2,
       "version_minor": 0
      },
      "text/plain": [
       "  0%|          | 0/219 [00:00<?, ?it/s]"
      ]
     },
     "metadata": {},
     "output_type": "display_data"
    },
    {
     "name": "stdout",
     "output_type": "stream",
     "text": [
      "-- epoch 3/8 | lr = 0.000442 | trn_loss = 0.4105 | val_loss = 0.4203 | val_auc = 0.8704 | 72.31 min\n"
     ]
    },
    {
     "data": {
      "application/vnd.jupyter.widget-view+json": {
       "model_id": "9ce3ef668c654e93bb50651273abb129",
       "version_major": 2,
       "version_minor": 0
      },
      "text/plain": [
       "  0%|          | 0/7875 [00:00<?, ?it/s]"
      ]
     },
     "metadata": {},
     "output_type": "display_data"
    },
    {
     "data": {
      "application/vnd.jupyter.widget-view+json": {
       "model_id": "9267a5e28efa45ac8a5c3902464760cd",
       "version_major": 2,
       "version_minor": 0
      },
      "text/plain": [
       "  0%|          | 0/219 [00:00<?, ?it/s]"
      ]
     },
     "metadata": {},
     "output_type": "display_data"
    },
    {
     "name": "stdout",
     "output_type": "stream",
     "text": [
      "-- epoch 4/8 | lr = 0.000375 | trn_loss = 0.4055 | val_loss = 0.4227 | val_auc = 0.8697 | 77.47 min\n"
     ]
    },
    {
     "data": {
      "application/vnd.jupyter.widget-view+json": {
       "model_id": "2d1329d880f24fda9169f802a617f81f",
       "version_major": 2,
       "version_minor": 0
      },
      "text/plain": [
       "  0%|          | 0/7875 [00:00<?, ?it/s]"
      ]
     },
     "metadata": {},
     "output_type": "display_data"
    },
    {
     "ename": "KeyboardInterrupt",
     "evalue": "",
     "output_type": "error",
     "traceback": [
      "\u001b[0;31m---------------------------------------------------------------------------\u001b[0m",
      "\u001b[0;31mKeyboardInterrupt\u001b[0m                         Traceback (most recent call last)",
      "\u001b[0;32m<ipython-input-12-f9ef9fff052c>\u001b[0m in \u001b[0;36m<module>\u001b[0;34m\u001b[0m\n\u001b[1;32m      6\u001b[0m \u001b[0;31m# run cross-validation\u001b[0m\u001b[0;34m\u001b[0m\u001b[0;34m\u001b[0m\u001b[0;34m\u001b[0m\u001b[0m\n\u001b[1;32m      7\u001b[0m \u001b[0mprint\u001b[0m\u001b[0;34m(\u001b[0m\u001b[0;34m'-'\u001b[0m \u001b[0;34m*\u001b[0m \u001b[0;36m55\u001b[0m\u001b[0;34m)\u001b[0m\u001b[0;34m\u001b[0m\u001b[0;34m\u001b[0m\u001b[0m\n\u001b[0;32m----> 8\u001b[0;31m notebook_launcher(function      = run_training,\n\u001b[0m\u001b[1;32m      9\u001b[0m                   \u001b[0margs\u001b[0m          \u001b[0;34m=\u001b[0m \u001b[0;34m(\u001b[0m\u001b[0mCFG\u001b[0m\u001b[0;34m,\u001b[0m \u001b[0mdf\u001b[0m\u001b[0;34m)\u001b[0m\u001b[0;34m,\u001b[0m\u001b[0;34m\u001b[0m\u001b[0;34m\u001b[0m\u001b[0m\n\u001b[1;32m     10\u001b[0m                   \u001b[0mnum_processes\u001b[0m \u001b[0;34m=\u001b[0m \u001b[0mCFG\u001b[0m\u001b[0;34m[\u001b[0m\u001b[0;34m'num_devices'\u001b[0m\u001b[0;34m]\u001b[0m\u001b[0;34m,\u001b[0m\u001b[0;34m\u001b[0m\u001b[0;34m\u001b[0m\u001b[0m\n",
      "\u001b[0;32m~/.conda/envs/py3/lib/python3.8/site-packages/accelerate/notebook_launcher.py\u001b[0m in \u001b[0;36mnotebook_launcher\u001b[0;34m(function, args, num_processes, use_fp16, use_port)\u001b[0m\n\u001b[1;32m    129\u001b[0m             \u001b[0;32melse\u001b[0m\u001b[0;34m:\u001b[0m\u001b[0;34m\u001b[0m\u001b[0;34m\u001b[0m\u001b[0m\n\u001b[1;32m    130\u001b[0m                 \u001b[0mprint\u001b[0m\u001b[0;34m(\u001b[0m\u001b[0;34m\"Launching training on CPU.\"\u001b[0m\u001b[0;34m)\u001b[0m\u001b[0;34m\u001b[0m\u001b[0;34m\u001b[0m\u001b[0m\n\u001b[0;32m--> 131\u001b[0;31m             \u001b[0mfunction\u001b[0m\u001b[0;34m(\u001b[0m\u001b[0;34m*\u001b[0m\u001b[0margs\u001b[0m\u001b[0;34m)\u001b[0m\u001b[0;34m\u001b[0m\u001b[0;34m\u001b[0m\u001b[0m\n\u001b[0m",
      "\u001b[0;32m~/Downloads/g2net/code/run_training.py\u001b[0m in \u001b[0;36mrun_training\u001b[0;34m(CFG, df)\u001b[0m\n\u001b[1;32m     46\u001b[0m \u001b[0;34m\u001b[0m\u001b[0m\n\u001b[1;32m     47\u001b[0m         \u001b[0;31m# run single fold\u001b[0m\u001b[0;34m\u001b[0m\u001b[0;34m\u001b[0m\u001b[0;34m\u001b[0m\u001b[0m\n\u001b[0;32m---> 48\u001b[0;31m         trn_losses, val_losses, val_scores = train_fold(fold        = fold, \n\u001b[0m\u001b[1;32m     49\u001b[0m                                                         \u001b[0mdf_trn\u001b[0m      \u001b[0;34m=\u001b[0m \u001b[0mdf_trn\u001b[0m\u001b[0;34m,\u001b[0m\u001b[0;34m\u001b[0m\u001b[0;34m\u001b[0m\u001b[0m\n\u001b[1;32m     50\u001b[0m                                                         \u001b[0mdf_val\u001b[0m      \u001b[0;34m=\u001b[0m \u001b[0mdf_val\u001b[0m\u001b[0;34m,\u001b[0m\u001b[0;34m\u001b[0m\u001b[0;34m\u001b[0m\u001b[0m\n",
      "\u001b[0;32m~/Downloads/g2net/code/train_fold.py\u001b[0m in \u001b[0;36mtrain_fold\u001b[0;34m(fold, df_trn, df_val, CFG, model, accelerator)\u001b[0m\n\u001b[1;32m     56\u001b[0m         \u001b[0;31m# training\u001b[0m\u001b[0;34m\u001b[0m\u001b[0;34m\u001b[0m\u001b[0;34m\u001b[0m\u001b[0m\n\u001b[1;32m     57\u001b[0m         \u001b[0maccelerator\u001b[0m\u001b[0;34m.\u001b[0m\u001b[0mwait_for_everyone\u001b[0m\u001b[0;34m(\u001b[0m\u001b[0;34m)\u001b[0m\u001b[0;34m\u001b[0m\u001b[0;34m\u001b[0m\u001b[0m\n\u001b[0;32m---> 58\u001b[0;31m         trn_loss = train_epoch(loader      = trn_loader, \n\u001b[0m\u001b[1;32m     59\u001b[0m                                \u001b[0mmodel\u001b[0m       \u001b[0;34m=\u001b[0m \u001b[0mmodel\u001b[0m\u001b[0;34m,\u001b[0m\u001b[0;34m\u001b[0m\u001b[0;34m\u001b[0m\u001b[0m\n\u001b[1;32m     60\u001b[0m                                \u001b[0moptimizer\u001b[0m   \u001b[0;34m=\u001b[0m \u001b[0moptimizer\u001b[0m\u001b[0;34m,\u001b[0m\u001b[0;34m\u001b[0m\u001b[0;34m\u001b[0m\u001b[0m\n",
      "\u001b[0;32m~/Downloads/g2net/code/train_epoch.py\u001b[0m in \u001b[0;36mtrain_epoch\u001b[0;34m(loader, model, optimizer, scheduler, criterion, accelerator, epoch, CFG)\u001b[0m\n\u001b[1;32m     74\u001b[0m \u001b[0;34m\u001b[0m\u001b[0m\n\u001b[1;32m     75\u001b[0m             \u001b[0;31m# backward pass\u001b[0m\u001b[0;34m\u001b[0m\u001b[0;34m\u001b[0m\u001b[0;34m\u001b[0m\u001b[0m\n\u001b[0;32m---> 76\u001b[0;31m             \u001b[0maccelerator\u001b[0m\u001b[0;34m.\u001b[0m\u001b[0mbackward\u001b[0m\u001b[0;34m(\u001b[0m\u001b[0mloss\u001b[0m\u001b[0;34m)\u001b[0m\u001b[0;34m\u001b[0m\u001b[0;34m\u001b[0m\u001b[0m\n\u001b[0m\u001b[1;32m     77\u001b[0m \u001b[0;34m\u001b[0m\u001b[0m\n\u001b[1;32m     78\u001b[0m             \u001b[0;31m# gradient clipping\u001b[0m\u001b[0;34m\u001b[0m\u001b[0;34m\u001b[0m\u001b[0;34m\u001b[0m\u001b[0m\n",
      "\u001b[0;32m~/.conda/envs/py3/lib/python3.8/site-packages/accelerate/accelerator.py\u001b[0m in \u001b[0;36mbackward\u001b[0;34m(self, loss, **kwargs)\u001b[0m\n\u001b[1;32m    395\u001b[0m             \u001b[0mself\u001b[0m\u001b[0;34m.\u001b[0m\u001b[0mdeepspeed_engine\u001b[0m\u001b[0;34m.\u001b[0m\u001b[0mbackward\u001b[0m\u001b[0;34m(\u001b[0m\u001b[0mloss\u001b[0m\u001b[0;34m,\u001b[0m \u001b[0;34m**\u001b[0m\u001b[0mkwargs\u001b[0m\u001b[0;34m)\u001b[0m\u001b[0;34m\u001b[0m\u001b[0;34m\u001b[0m\u001b[0m\n\u001b[1;32m    396\u001b[0m         \u001b[0;32melif\u001b[0m \u001b[0mself\u001b[0m\u001b[0;34m.\u001b[0m\u001b[0mscaler\u001b[0m \u001b[0;32mis\u001b[0m \u001b[0;32mnot\u001b[0m \u001b[0;32mNone\u001b[0m\u001b[0;34m:\u001b[0m\u001b[0;34m\u001b[0m\u001b[0;34m\u001b[0m\u001b[0m\n\u001b[0;32m--> 397\u001b[0;31m             \u001b[0mself\u001b[0m\u001b[0;34m.\u001b[0m\u001b[0mscaler\u001b[0m\u001b[0;34m.\u001b[0m\u001b[0mscale\u001b[0m\u001b[0;34m(\u001b[0m\u001b[0mloss\u001b[0m\u001b[0;34m)\u001b[0m\u001b[0;34m.\u001b[0m\u001b[0mbackward\u001b[0m\u001b[0;34m(\u001b[0m\u001b[0;34m**\u001b[0m\u001b[0mkwargs\u001b[0m\u001b[0;34m)\u001b[0m\u001b[0;34m\u001b[0m\u001b[0;34m\u001b[0m\u001b[0m\n\u001b[0m\u001b[1;32m    398\u001b[0m         \u001b[0;32melse\u001b[0m\u001b[0;34m:\u001b[0m\u001b[0;34m\u001b[0m\u001b[0;34m\u001b[0m\u001b[0m\n\u001b[1;32m    399\u001b[0m             \u001b[0mloss\u001b[0m\u001b[0;34m.\u001b[0m\u001b[0mbackward\u001b[0m\u001b[0;34m(\u001b[0m\u001b[0;34m**\u001b[0m\u001b[0mkwargs\u001b[0m\u001b[0;34m)\u001b[0m\u001b[0;34m\u001b[0m\u001b[0;34m\u001b[0m\u001b[0m\n",
      "\u001b[0;32m~/.conda/envs/py3/lib/python3.8/site-packages/torch/tensor.py\u001b[0m in \u001b[0;36mbackward\u001b[0;34m(self, gradient, retain_graph, create_graph, inputs)\u001b[0m\n\u001b[1;32m    243\u001b[0m                 \u001b[0mcreate_graph\u001b[0m\u001b[0;34m=\u001b[0m\u001b[0mcreate_graph\u001b[0m\u001b[0;34m,\u001b[0m\u001b[0;34m\u001b[0m\u001b[0;34m\u001b[0m\u001b[0m\n\u001b[1;32m    244\u001b[0m                 inputs=inputs)\n\u001b[0;32m--> 245\u001b[0;31m         \u001b[0mtorch\u001b[0m\u001b[0;34m.\u001b[0m\u001b[0mautograd\u001b[0m\u001b[0;34m.\u001b[0m\u001b[0mbackward\u001b[0m\u001b[0;34m(\u001b[0m\u001b[0mself\u001b[0m\u001b[0;34m,\u001b[0m \u001b[0mgradient\u001b[0m\u001b[0;34m,\u001b[0m \u001b[0mretain_graph\u001b[0m\u001b[0;34m,\u001b[0m \u001b[0mcreate_graph\u001b[0m\u001b[0;34m,\u001b[0m \u001b[0minputs\u001b[0m\u001b[0;34m=\u001b[0m\u001b[0minputs\u001b[0m\u001b[0;34m)\u001b[0m\u001b[0;34m\u001b[0m\u001b[0;34m\u001b[0m\u001b[0m\n\u001b[0m\u001b[1;32m    246\u001b[0m \u001b[0;34m\u001b[0m\u001b[0m\n\u001b[1;32m    247\u001b[0m     \u001b[0;32mdef\u001b[0m \u001b[0mregister_hook\u001b[0m\u001b[0;34m(\u001b[0m\u001b[0mself\u001b[0m\u001b[0;34m,\u001b[0m \u001b[0mhook\u001b[0m\u001b[0;34m)\u001b[0m\u001b[0;34m:\u001b[0m\u001b[0;34m\u001b[0m\u001b[0;34m\u001b[0m\u001b[0m\n",
      "\u001b[0;32m~/.conda/envs/py3/lib/python3.8/site-packages/torch/autograd/__init__.py\u001b[0m in \u001b[0;36mbackward\u001b[0;34m(tensors, grad_tensors, retain_graph, create_graph, grad_variables, inputs)\u001b[0m\n\u001b[1;32m    143\u001b[0m         \u001b[0mretain_graph\u001b[0m \u001b[0;34m=\u001b[0m \u001b[0mcreate_graph\u001b[0m\u001b[0;34m\u001b[0m\u001b[0;34m\u001b[0m\u001b[0m\n\u001b[1;32m    144\u001b[0m \u001b[0;34m\u001b[0m\u001b[0m\n\u001b[0;32m--> 145\u001b[0;31m     Variable._execution_engine.run_backward(\n\u001b[0m\u001b[1;32m    146\u001b[0m         \u001b[0mtensors\u001b[0m\u001b[0;34m,\u001b[0m \u001b[0mgrad_tensors_\u001b[0m\u001b[0;34m,\u001b[0m \u001b[0mretain_graph\u001b[0m\u001b[0;34m,\u001b[0m \u001b[0mcreate_graph\u001b[0m\u001b[0;34m,\u001b[0m \u001b[0minputs\u001b[0m\u001b[0;34m,\u001b[0m\u001b[0;34m\u001b[0m\u001b[0;34m\u001b[0m\u001b[0m\n\u001b[1;32m    147\u001b[0m         allow_unreachable=True, accumulate_grad=True)  # allow_unreachable flag\n",
      "\u001b[0;31mKeyboardInterrupt\u001b[0m: "
     ]
    }
   ],
   "source": [
    "####### CROSS-VALIDATION LOOP\n",
    "\n",
    "# timer\n",
    "cv_start = time.time()\n",
    "\n",
    "# run cross-validation\n",
    "print('-' * 55)\n",
    "notebook_launcher(function      = run_training,\n",
    "                  args          = (CFG, df),\n",
    "                  num_processes = CFG['num_devices'],\n",
    "                  use_fp16      = CFG['use_fp16'])\n",
    "\n",
    "# feedback\n",
    "print('')\n",
    "print('Finished in {:.2f} minutes'.format((time.time() - cv_start) / 60))"
   ]
  },
  {
   "cell_type": "markdown",
   "metadata": {
    "id": "e5bUh1-_0VjL",
    "tags": []
   },
   "source": [
    "# 5. INFERENCE"
   ]
  },
  {
   "cell_type": "code",
   "execution_count": 13,
   "metadata": {},
   "outputs": [],
   "source": [
    "from utilities import *\n",
    "from model import get_model\n",
    "from data import get_data, get_loaders\n",
    "from augmentations import get_augs\n",
    "from test_epoch import test_epoch\n",
    "\n",
    "import gc\n",
    "import neptune\n",
    "from accelerate import Accelerator, DistributedType\n",
    "import pandas as pd\n",
    "import numpy as np\n",
    "\n",
    "\n",
    "\n",
    "def run_inference(df, df_test, CFG):\n",
    "    \n",
    "    '''\n",
    "    Run inference loop\n",
    "    '''\n",
    "        \n",
    "    # placeholders\n",
    "    oof = None\n",
    "    sub = None\n",
    "    \n",
    "    # inference\n",
    "    for fold in range(1):\n",
    "        \n",
    "        # initialize accelerator\n",
    "        accelerator = Accelerator(device_placement = True,\n",
    "                                  fp16             = CFG['use_fp16'],\n",
    "                                  split_batches    = False)\n",
    "        if CFG['device'] == 'GPU':\n",
    "            accelerator.state.device = torch.device('cuda:{}'.format(CFG['device_index']))\n",
    "\n",
    "        # feedback\n",
    "        accelerator.print('-' * 55)\n",
    "        accelerator.print('FOLD {:d}/{:d}'.format(fold + 1, CFG['num_folds']))    \n",
    "        accelerator.print('-' * 55)   \n",
    "        \n",
    "        # get data\n",
    "        df_trn, df_val = get_data(df, fold, CFG, accelerator, silent = True)  \n",
    "\n",
    "        # get test loader\n",
    "        _, val_loader  = get_loaders(df_trn, df_val,  CFG, accelerator, labeled = False, silent = True) \n",
    "        _, test_loader = get_loaders(df_trn, df_test, CFG, accelerator, labeled = False, silent = True) \n",
    "        \n",
    "        # prepare model\n",
    "        model = get_model(CFG, pretrained = CFG['out_path'] + 'weights_fold{}.pth'.format(int(fold)))\n",
    "        \n",
    "        # handle device placement\n",
    "        model, val_loader, test_loader = accelerator.prepare(model, val_loader, test_loader)\n",
    "        \n",
    "        # inference for validation data\n",
    "        if CFG['predict_oof']:\n",
    "                        \n",
    "            # produce OOF preds\n",
    "            val_preds = test_epoch(loader      = val_loader, \n",
    "                                   model       = model,\n",
    "                                   CFG         = CFG,\n",
    "                                   accelerator = accelerator,\n",
    "                                   num_tta     = CFG['num_tta'])\n",
    "            \n",
    "            # store OOF preds\n",
    "            val_preds_df = pd.DataFrame(val_preds, columns = ['pred'])\n",
    "            val_preds_df = pd.concat([df_val, val_preds_df], axis = 1)\n",
    "            oof          = pd.concat([oof,    val_preds_df], axis = 0).reset_index(drop = True)\n",
    "                    \n",
    "        # inference for test data\n",
    "        if CFG['predict_test']:\n",
    "            \n",
    "            # produce test preds\n",
    "            test_preds = test_epoch(loader      = test_loader, \n",
    "                                    model       = model,\n",
    "                                    CFG         = CFG,\n",
    "                                    accelerator = accelerator,\n",
    "                                    num_tta     = CFG['num_tta'])\n",
    "        \n",
    "            # store test preds\n",
    "            test_preds_df = pd.DataFrame(test_preds, columns = ['pred_fold{}'.format(int(fold))])\n",
    "            sub           = pd.concat([sub, test_preds_df], axis = 1)\n",
    "            \n",
    "        # clear memory\n",
    "        del model, val_loader, test_loader\n",
    "        del accelerator\n",
    "        gc.collect()\n",
    "        \n",
    "    # export OOF preds\n",
    "    if CFG['predict_oof']:\n",
    "        oof.to_csv(CFG['out_path'] + 'oof.csv', index = False)\n",
    "        if CFG['tracking']:\n",
    "            neptune.send_artifact(CFG['out_path'] + 'oof.csv')\n",
    "            \n",
    "    # export test preds\n",
    "    if CFG['predict_test']:\n",
    "        sub = pd.concat([df_test['id'], sub], axis = 1)\n",
    "        sub.to_csv(CFG['out_path'] + 'submission.csv', index = False)\n",
    "        if CFG['tracking']:\n",
    "            neptune.send_artifact(CFG['out_path'] + 'submission.csv')"
   ]
  },
  {
   "cell_type": "code",
   "execution_count": 14,
   "metadata": {
    "tags": []
   },
   "outputs": [
    {
     "name": "stdout",
     "output_type": "stream",
     "text": [
      "-------------------------------------------------------\n",
      "Launching training on one GPU.\n",
      "-------------------------------------------------------\n",
      "FOLD 1/10\n",
      "-------------------------------------------------------\n",
      "-- loaded custom weights\n"
     ]
    },
    {
     "data": {
      "application/vnd.jupyter.widget-view+json": {
       "model_id": "c4e493ac7d4946c19c8e06f8364afc38",
       "version_major": 2,
       "version_minor": 0
      },
      "text/plain": [
       "  0%|          | 0/219 [00:00<?, ?it/s]"
      ]
     },
     "metadata": {},
     "output_type": "display_data"
    },
    {
     "data": {
      "application/vnd.jupyter.widget-view+json": {
       "model_id": "ccde93ab0927449ba03f5ddfb1e45ad0",
       "version_major": 2,
       "version_minor": 0
      },
      "text/plain": [
       "  0%|          | 0/883 [00:00<?, ?it/s]"
      ]
     },
     "metadata": {},
     "output_type": "display_data"
    },
    {
     "name": "stdout",
     "output_type": "stream",
     "text": [
      "\n",
      "Finished in 28.94 minutes\n"
     ]
    }
   ],
   "source": [
    "####### INFERENCE LOOP\n",
    "\n",
    "# timer\n",
    "cv_start = time.time()\n",
    "\n",
    "# run cross-validation\n",
    "print('-' * 55)\n",
    "notebook_launcher(function      = run_inference,\n",
    "                  args          = (df, sub, CFG),\n",
    "                  num_processes = 1,\n",
    "                  use_fp16      = CFG['use_fp16'])\n",
    "\n",
    "# feedback\n",
    "print('')\n",
    "print('Finished in {:.2f} minutes'.format((time.time() - cv_start) / 60))"
   ]
  },
  {
   "cell_type": "code",
   "execution_count": null,
   "metadata": {
    "id": "cJQFNQsc0VjL"
   },
   "outputs": [],
   "source": [
    "####### CHECK OOF PERFORMANCE\n",
    "\n",
    "# import OOF\n",
    "oof = pd.read_csv(CFG['out_path'] + 'oof.csv')\n",
    "\n",
    "# compute score\n",
    "oof_score = []\n",
    "for fold in range(CFG['num_folds']):\n",
    "    oof_score.append(get_score(oof.loc[oof['fold'] == fold, 'target'],\n",
    "                               oof.loc[oof['fold'] == fold, 'pred']))\n",
    "CFG['oof_score_tta'] = np.mean(oof_score)\n",
    "\n",
    "# print performance\n",
    "print('-' * 30)\n",
    "print('OOF with TTA = {:.4f}'.format(CFG['oof_score_tta']))\n",
    "print('-' * 30)"
   ]
  },
  {
   "cell_type": "code",
   "execution_count": null,
   "metadata": {
    "id": "2g1eeDFgleGB"
   },
   "outputs": [],
   "source": [
    "####### EXPORT CONFIGURATION\n",
    "\n",
    "# save dictionary\n",
    "pickle.dump(CFG, open(CFG['out_path'] + 'configuration.pkl', 'wb'))\n",
    "\n",
    "# send data to Neptune\n",
    "if CFG['tracking']:\n",
    "    neptune.send_metric('oof_score_tta', CFG['oof_score_tta'])\n",
    "    neptune.send_artifact(CFG['out_path'] + 'configuration.pkl')\n",
    "    neptune.stop()"
   ]
  },
  {
   "cell_type": "markdown",
   "metadata": {},
   "source": [
    "# 7. ERROR ANALYSIS"
   ]
  },
  {
   "cell_type": "code",
   "execution_count": null,
   "metadata": {},
   "outputs": [],
   "source": [
    "###### SHOW SAMPLE PREDICTIONS\n",
    "\n",
    "from plot_predictions import plot_predictions\n",
    "plot_predictions(CFG, fold = 0, sample_size = 5)"
   ]
  }
 ],
 "metadata": {
  "accelerator": "GPU",
  "colab": {
   "collapsed_sections": [],
   "name": "training_v21.ipynb",
   "provenance": [],
   "toc_visible": true
  },
  "kernelspec": {
   "display_name": "Python 3",
   "language": "python",
   "name": "python3"
  },
  "language_info": {
   "codemirror_mode": {
    "name": "ipython",
    "version": 3
   },
   "file_extension": ".py",
   "mimetype": "text/x-python",
   "name": "python",
   "nbconvert_exporter": "python",
   "pygments_lexer": "ipython3",
   "version": "3.8.8"
  },
  "neptune": {
   "notebookId": "83aec7da-b563-4f21-b7c2-a086a97d489b",
   "projectVersion": 2
  },
  "papermill": {
   "default_parameters": {},
   "duration": 27660.340489,
   "end_time": "2021-03-13T07:27:19.479867",
   "environment_variables": {},
   "exception": null,
   "input_path": "__notebook__.ipynb",
   "output_path": "__notebook__.ipynb",
   "parameters": {},
   "start_time": "2021-03-12T23:46:19.139378",
   "version": "2.2.2"
  },
  "toc-autonumbering": false,
  "toc-showtags": false
 },
 "nbformat": 4,
 "nbformat_minor": 4
}

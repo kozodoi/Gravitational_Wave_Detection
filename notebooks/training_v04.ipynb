{
 "cells": [
  {
   "cell_type": "markdown",
   "metadata": {
    "id": "0V4vZ6Qm0ViG",
    "tags": []
   },
   "source": [
    "# 1. PARAMETERS"
   ]
  },
  {
   "cell_type": "code",
   "execution_count": 1,
   "metadata": {
    "id": "ZGLrkTFa0ViK"
   },
   "outputs": [],
   "source": [
    "####### CONFIGURATION\n",
    "\n",
    "class CFG:\n",
    "\n",
    "    # environment\n",
    "    environment  = 'local'  # work environment ['kaggle', 'local']\n",
    "    device       = 'GPU'    # training device ['GPU', 'TPU']\n",
    "    device_index = 0        # device index (when using single device)\n",
    "    num_devices  = 1        # no. GPU/TPU devices (modeling)\n",
    "    cpu_workers  = 4        # no. CPU cores (data loading)\n",
    "\n",
    "    # general\n",
    "    version  = 4      # notebook version (for saving outputs)\n",
    "    debug    = False  # debug mode runs 10 batches for 3 epochs\n",
    "    tracking = True   # track results using neptune.ai\n",
    "    seed     = 13353  # random state\n",
    "\n",
    "    # data\n",
    "    num_folds = 5      # number of CV folds\n",
    "    data_pl   = False  # False or percentage of appended pseudo-labeled data \n",
    "    data_old  = True   # whether to append nromalized old data to train\n",
    "    data_off   = False  # whether to include off channels as negative targets\n",
    "    \n",
    "    # wave transformation\n",
    "    transform = 'q'\n",
    "    q_sr      = 2048\n",
    "    q_fmin    = 20\n",
    "    q_fmax    = 1024\n",
    "    q_hop     = 32\n",
    "    q_bins    = 8\n",
    "    \n",
    "    # image processing\n",
    "    p_transpose = 0                 # prob. of transpose\n",
    "    p_flip       = 0.5               # prob. of  vertical and horizontal flips \n",
    "    p_aug       = 0                 # prob. of augmentations except for flips\n",
    "    ssr         = [0.10, 0.10, 360] # shift, scale, rotation limits\n",
    "    huesat      = [0, 0, 0]         # hue, saturation, value limits\n",
    "    bricon      = [0, 0]            # brightness, contrast limits\n",
    "    blur_limit  = 0                 # blur limit\n",
    "    cutmix      = [0, 1]            # cutmix batch-level probability, alpha\n",
    "    normalize   = False             # pixel normalization after augmentation\n",
    "        \n",
    "    # architecture\n",
    "    backbone   = 'tf_efficientnet_b0_ns'  # CNN backbone   \n",
    "    pretrained = 'imagenet'             # pretrained weights [False, 'imagenet', path]\n",
    "    \n",
    "    # training\n",
    "    num_epochs    = 10     # no. epochs per fold\n",
    "    max_batches   = False  # max no. batches per training epoch (False or int)\n",
    "    batch_size    = 64     # no. images per batch \n",
    "    accum_iter    = 1      # no. batches for gradient accumalation\n",
    "    use_fp16      = True   # mixed precision mode \n",
    "    grad_clip     = False  # max gradient norm (False or float)\n",
    "    batch_verbose = False  # print loss every n batches\n",
    "    \n",
    "    # loss function\n",
    "    loss_fn = 'BCE'  # loss ['BCE', 'FC']\n",
    "    smooth  = False  # label smoothing (False or float)\n",
    "    \n",
    "    # LR and optimizer\n",
    "    lr    = 1e-4       # starting learning rate\n",
    "    optim = 'madgrad'  # LR optimizer ['Adam', 'AdamW', 'AdamP', 'madgrad']\n",
    "    decay = 0          # weight decay of optimizer (L2 regularization)\n",
    "\n",
    "    # scheduler\n",
    "    warmup       = 1         # no. epochs for warmup\n",
    "    scheduler    = 'cosine'  # LR scheduler after warmup\n",
    "    upd_on_batch = True      # update LR after every batch (or epoch)\n",
    "    \n",
    "    # inference\n",
    "    predict_oof      = True  # whether to produce OOF predictions\n",
    "    predict_test     = True  # whether to produce test predictions \n",
    "    valid_batch_size = 256   # no. images per batch \n",
    "    num_tta          = 1     # no. TTA flips (between 1 and 8)"
   ]
  },
  {
   "cell_type": "code",
   "execution_count": 2,
   "metadata": {
    "id": "ONx3m0TJ2PJ1"
   },
   "outputs": [],
   "source": [
    "####### CONVERT CONFIGURATION\n",
    "\n",
    "CFG = dict(vars(CFG))\n",
    "for key in ['__dict__', '__doc__', '__module__', '__weakref__']:\n",
    "    del CFG[key]"
   ]
  },
  {
   "cell_type": "code",
   "execution_count": 3,
   "metadata": {
    "id": "8a2ClHIAthIY"
   },
   "outputs": [],
   "source": [
    "####### UPDATES FOR DEBUG MODE\n",
    "\n",
    "if CFG['debug']:\n",
    "    CFG['predict_test'] = False\n",
    "    CFG['tracking']     = False\n",
    "    CFG['save_all']     = False\n",
    "    CFG['num_epochs']   = 2\n",
    "    CFG['num_folds']    = 2"
   ]
  },
  {
   "cell_type": "markdown",
   "metadata": {
    "id": "-9ZKt08y0ViT"
   },
   "source": [
    "# 2. PREPARATIONS"
   ]
  },
  {
   "cell_type": "code",
   "execution_count": 4,
   "metadata": {
    "colab": {
     "base_uri": "https://localhost:8080/"
    },
    "id": "S6rE_WKH0ViV",
    "outputId": "cbb5b126-f7d4-4f65-b2ec-9021d3596ee9",
    "tags": []
   },
   "outputs": [],
   "source": [
    "####### PACKAGES\n",
    "\n",
    "if CFG['environment'] != 'local':\n",
    "    !pip install timm transformers accelerate adamp madgrad\n",
    "    !pip install --upgrade -U albumentations\n",
    "    !pip install git+'https://github.com/ildoonet/pytorch-gradual-warmup-lr.git'\n",
    "    !pip install --upgrade neptune-client\n",
    "    !pip install --upgrade --force-reinstall --no-deps -q kaggle\n",
    "    \n",
    "if CFG['device'] == 'TPU':\n",
    "    !pip install cloud-tpu-client==0.10 'https://storage.googleapis.com/tpu-pytorch/wheels/torch_xla-1.8-cp37-cp37m-linux_x86_64.whl'\n",
    "\n",
    "import numpy as np\n",
    "import pandas as pd\n",
    "import torch\n",
    "\n",
    "import os\n",
    "import sys\n",
    "import time\n",
    "import pickle\n",
    "\n",
    "from sklearn import metrics\n",
    "from sklearn.metrics import confusion_matrix, roc_auc_score\n",
    "from sklearn.model_selection import StratifiedKFold, GroupKFold, KFold\n",
    "\n",
    "from accelerate import notebook_launcher\n",
    "\n",
    "import warnings\n",
    "import gc; gc.enable()"
   ]
  },
  {
   "cell_type": "code",
   "execution_count": 5,
   "metadata": {},
   "outputs": [],
   "source": [
    "####### MODULES\n",
    "\n",
    "# source\n",
    "if CFG['environment'] == 'local':\n",
    "    sys.path.append('../code')  \n",
    "elif CFG['environment'] == 'kaggle':\n",
    "    sys.path.append('../input/seti-code')  \n",
    "\n",
    "# utilities\n",
    "from utilities import *\n",
    "\n",
    "# visualization\n",
    "from sample_batch import sample_batch\n",
    "\n",
    "# training and inference\n",
    "from run_training import run_training\n",
    "from run_inference import run_inference"
   ]
  },
  {
   "cell_type": "code",
   "execution_count": 6,
   "metadata": {
    "id": "2_X93RyNgsJI"
   },
   "outputs": [],
   "source": [
    "####### WORKING PATHS\n",
    "\n",
    "if CFG['environment'] == 'local':\n",
    "    CFG['data_path']  = '../input/'\n",
    "    CFG['out_path']   = '../output/v' + str(CFG['version']) + '/'\n",
    "    if not os.path.exists(CFG['out_path']):\n",
    "        os.mkdir(CFG['out_path'])\n",
    "        \n",
    "elif CFG['environment'] == 'kaggle':\n",
    "    CFG['data_path']  = '../input/seti-breakthrough-listen/'\n",
    "    CFG['out_path']   = ''"
   ]
  },
  {
   "cell_type": "code",
   "execution_count": 7,
   "metadata": {
    "colab": {
     "base_uri": "https://localhost:8080/"
    },
    "id": "WNePNOxvCCkS",
    "outputId": "a423aa41-e716-42d6-d8b2-80b7f670bf05",
    "tags": []
   },
   "outputs": [
    {
     "name": "stdout",
     "output_type": "stream",
     "text": [
      "https://app.neptune.ai/ml_comps/g2net/e/GNET-19\n"
     ]
    }
   ],
   "source": [
    "####### TRACKING WITH NEPTUNE\n",
    "\n",
    "if CFG['tracking']:\n",
    "    import neptune \n",
    "    neptune.init(api_token             = 'eyJhcGlfYWRkcmVzcyI6Imh0dHBzOi8vYXBwLm5lcHR1bmUuYWkiLCJhcGlfdXJsIjoiaHR0cHM6Ly9hcHAubmVwdHVuZS5haSIsImFwaV9rZXkiOiIzZjVlMTZiZS1kYjcyLTRmZmQtYjJhYS0xMmIyYzdiNzFkMzcifQ==',\n",
    "                 project_qualified_name = 'ml_comps/g2net')\n",
    "    neptune.create_experiment(name = 'v' + str(CFG['version']), params = CFG) "
   ]
  },
  {
   "cell_type": "code",
   "execution_count": 8,
   "metadata": {
    "colab": {
     "base_uri": "https://localhost:8080/"
    },
    "id": "UPuaITycSayz",
    "outputId": "335ab793-890a-465a-c744-713475733c85"
   },
   "outputs": [
    {
     "name": "stdout",
     "output_type": "stream",
     "text": [
      "- setting random seed to 13353...\n"
     ]
    }
   ],
   "source": [
    "####### SETTINGS\n",
    "\n",
    "warnings.filterwarnings('ignore')        # ignoring warnings\n",
    "pd.options.display.max_columns = 100    # maximum displayed columns\n",
    "torch.backends.cudnn.benchmark = False  # set to True if NN inputs are the same size\n",
    "seed_everything(CFG['seed'])            # random seed"
   ]
  },
  {
   "cell_type": "markdown",
   "metadata": {
    "id": "T2OuAGJw0Viv"
   },
   "source": [
    "# 3. DATA PREP"
   ]
  },
  {
   "cell_type": "code",
   "execution_count": 9,
   "metadata": {},
   "outputs": [
    {
     "name": "stdout",
     "output_type": "stream",
     "text": [
      "no. classes: 2\n",
      "train shape: (560000, 4)\n"
     ]
    },
    {
     "data": {
      "text/html": [
       "<div>\n",
       "<style scoped>\n",
       "    .dataframe tbody tr th:only-of-type {\n",
       "        vertical-align: middle;\n",
       "    }\n",
       "\n",
       "    .dataframe tbody tr th {\n",
       "        vertical-align: top;\n",
       "    }\n",
       "\n",
       "    .dataframe thead th {\n",
       "        text-align: right;\n",
       "    }\n",
       "</style>\n",
       "<table border=\"1\" class=\"dataframe\">\n",
       "  <thead>\n",
       "    <tr style=\"text-align: right;\">\n",
       "      <th>target</th>\n",
       "      <th>0</th>\n",
       "      <th>1</th>\n",
       "    </tr>\n",
       "    <tr>\n",
       "      <th>fold</th>\n",
       "      <th></th>\n",
       "      <th></th>\n",
       "    </tr>\n",
       "  </thead>\n",
       "  <tbody>\n",
       "    <tr>\n",
       "      <th>0</th>\n",
       "      <td>56014</td>\n",
       "      <td>55986</td>\n",
       "    </tr>\n",
       "    <tr>\n",
       "      <th>1</th>\n",
       "      <td>56014</td>\n",
       "      <td>55986</td>\n",
       "    </tr>\n",
       "    <tr>\n",
       "      <th>2</th>\n",
       "      <td>56014</td>\n",
       "      <td>55986</td>\n",
       "    </tr>\n",
       "    <tr>\n",
       "      <th>3</th>\n",
       "      <td>56014</td>\n",
       "      <td>55986</td>\n",
       "    </tr>\n",
       "    <tr>\n",
       "      <th>4</th>\n",
       "      <td>56014</td>\n",
       "      <td>55986</td>\n",
       "    </tr>\n",
       "  </tbody>\n",
       "</table>\n",
       "</div>"
      ],
      "text/plain": [
       "target      0      1\n",
       "fold                \n",
       "0       56014  55986\n",
       "1       56014  55986\n",
       "2       56014  55986\n",
       "3       56014  55986\n",
       "4       56014  55986"
      ]
     },
     "execution_count": 9,
     "metadata": {},
     "output_type": "execute_result"
    }
   ],
   "source": [
    "####### TRAIN DATA PROCESSING\n",
    "\n",
    "# import\n",
    "df = pd.read_csv(CFG['data_path'] + 'training_labels.csv')\n",
    "df['file_path'] = df['id'].apply(lambda x: get_train_file_path(x, CFG))\n",
    "\n",
    "# update info\n",
    "CFG['num_classes'] = df['target'].nunique()\n",
    "print('no. classes: {}'.format(CFG['num_classes']))\n",
    "\n",
    "# partitioning\n",
    "folds = StratifiedKFold(n_splits = CFG['num_folds'], shuffle = True, random_state = CFG['seed'])\n",
    "for fold_idx, (trn_idx, val_idx) in enumerate(folds.split(df, df['target'])):\n",
    "    df.loc[val_idx, 'fold'] = int(fold_idx)\n",
    "df['fold'] = df['fold'].astype(int)\n",
    "\n",
    "# display\n",
    "print(f'train shape: {df.shape}')\n",
    "pd.crosstab(df['fold'], df['target'])"
   ]
  },
  {
   "cell_type": "code",
   "execution_count": 10,
   "metadata": {
    "id": "YiVTVu2WSazW"
   },
   "outputs": [
    {
     "name": "stdout",
     "output_type": "stream",
     "text": [
      "test shape: (226000, 3)\n"
     ]
    },
    {
     "data": {
      "text/html": [
       "<div>\n",
       "<style scoped>\n",
       "    .dataframe tbody tr th:only-of-type {\n",
       "        vertical-align: middle;\n",
       "    }\n",
       "\n",
       "    .dataframe tbody tr th {\n",
       "        vertical-align: top;\n",
       "    }\n",
       "\n",
       "    .dataframe thead th {\n",
       "        text-align: right;\n",
       "    }\n",
       "</style>\n",
       "<table border=\"1\" class=\"dataframe\">\n",
       "  <thead>\n",
       "    <tr style=\"text-align: right;\">\n",
       "      <th></th>\n",
       "      <th>id</th>\n",
       "      <th>target</th>\n",
       "      <th>file_path</th>\n",
       "    </tr>\n",
       "  </thead>\n",
       "  <tbody>\n",
       "    <tr>\n",
       "      <th>0</th>\n",
       "      <td>00005bced6</td>\n",
       "      <td>0.5</td>\n",
       "      <td>../input/test/0/0/0/00005bced6.npy</td>\n",
       "    </tr>\n",
       "    <tr>\n",
       "      <th>1</th>\n",
       "      <td>0000806717</td>\n",
       "      <td>0.5</td>\n",
       "      <td>../input/test/0/0/0/0000806717.npy</td>\n",
       "    </tr>\n",
       "    <tr>\n",
       "      <th>2</th>\n",
       "      <td>0000ef4fe1</td>\n",
       "      <td>0.5</td>\n",
       "      <td>../input/test/0/0/0/0000ef4fe1.npy</td>\n",
       "    </tr>\n",
       "    <tr>\n",
       "      <th>3</th>\n",
       "      <td>00020de251</td>\n",
       "      <td>0.5</td>\n",
       "      <td>../input/test/0/0/0/00020de251.npy</td>\n",
       "    </tr>\n",
       "    <tr>\n",
       "      <th>4</th>\n",
       "      <td>00024887b5</td>\n",
       "      <td>0.5</td>\n",
       "      <td>../input/test/0/0/0/00024887b5.npy</td>\n",
       "    </tr>\n",
       "  </tbody>\n",
       "</table>\n",
       "</div>"
      ],
      "text/plain": [
       "           id  target                           file_path\n",
       "0  00005bced6     0.5  ../input/test/0/0/0/00005bced6.npy\n",
       "1  0000806717     0.5  ../input/test/0/0/0/0000806717.npy\n",
       "2  0000ef4fe1     0.5  ../input/test/0/0/0/0000ef4fe1.npy\n",
       "3  00020de251     0.5  ../input/test/0/0/0/00020de251.npy\n",
       "4  00024887b5     0.5  ../input/test/0/0/0/00024887b5.npy"
      ]
     },
     "metadata": {},
     "output_type": "display_data"
    }
   ],
   "source": [
    "###### TEST DATA PROCESSING\n",
    "\n",
    "# import\n",
    "sub = pd.read_csv(CFG['data_path'] + 'sample_submission.csv')\n",
    "sub['file_path'] = sub['id'].apply(lambda x: get_test_file_path(x, CFG))\n",
    "\n",
    "# subset if debug\n",
    "if CFG['debug']:\n",
    "    sub = sub.head(CFG['valid_batch_size'])\n",
    "\n",
    "# display\n",
    "print(f'test shape: {sub.shape}')\n",
    "display(sub.head())"
   ]
  },
  {
   "cell_type": "code",
   "execution_count": 11,
   "metadata": {},
   "outputs": [
    {
     "name": "stdout",
     "output_type": "stream",
     "text": [
      "- setting random seed to 13353...\n",
      "- loading time: 0.1574 vs 0.1241 seconds\n",
      "- inputs shape: torch.Size([3, 1, 46, 385]) vs torch.Size([3, 1, 46, 385])\n",
      "- pixel values: 0.00 | 0.02 | 0.78 vs 0.00 | 0.02 | 0.78\n"
     ]
    },
    {
     "data": {
      "image/png": "[encoded data removed]",
      "text/plain": [
       "<Figure size 1440x360 with 6 Axes>"
      ]
     },
     "metadata": {},
     "output_type": "display_data"
    }
   ],
   "source": [
    "###### SHOW SAMPLE BATCH\n",
    "\n",
    "_ = sample_batch(CFG, df, sample_size = 3, batch_idx = 1)"
   ]
  },
  {
   "cell_type": "markdown",
   "metadata": {
    "id": "NtAEmeT80VjI"
   },
   "source": [
    "# 4. CROSS-VALIDATION"
   ]
  },
  {
   "cell_type": "code",
   "execution_count": 12,
   "metadata": {
    "colab": {
     "base_uri": "https://localhost:8080/"
    },
    "id": "VIOZZY6cfxBx",
    "outputId": "cc6971e8-acc8-4be0-e3e1-f2a858a6fe7f",
    "tags": []
   },
   "outputs": [
    {
     "name": "stdout",
     "output_type": "stream",
     "text": [
      "-------------------------------------------------------\n",
      "Launching training on one GPU.\n",
      "-------------------------------------------------------\n",
      "FOLD 1/5\n",
      "-------------------------------------------------------\n",
      "- no. images: train - 448000, valid - 112000\n",
      "- setting random seed to 13353...\n",
      "-  p(augment): 0\n",
      "-------------------------------------------------------\n"
     ]
    },
    {
     "data": {
      "application/vnd.jupyter.widget-view+json": {
       "model_id": "34c28cf6e21f47b4925b4c42eed6f372",
       "version_major": 2,
       "version_minor": 0
      },
      "text/plain": [
       "  0%|          | 0/7000 [00:00<?, ?it/s]"
      ]
     },
     "metadata": {},
     "output_type": "display_data"
    },
    {
     "data": {
      "application/vnd.jupyter.widget-view+json": {
       "model_id": "2fc412fab64e4896a6207dd57dcb4ea1",
       "version_major": 2,
       "version_minor": 0
      },
      "text/plain": [
       "  0%|          | 0/438 [00:00<?, ?it/s]"
      ]
     },
     "metadata": {},
     "output_type": "display_data"
    },
    {
     "name": "stdout",
     "output_type": "stream",
     "text": [
      "-- epoch 1/10 | lr = 0.000100 | trn_loss = 0.5077 | val_loss = 0.4921 | val_auc = 0.8410 | 15.66 min\n"
     ]
    },
    {
     "data": {
      "application/vnd.jupyter.widget-view+json": {
       "model_id": "820b33a06d8344338677f726df0d8160",
       "version_major": 2,
       "version_minor": 0
      },
      "text/plain": [
       "  0%|          | 0/7000 [00:00<?, ?it/s]"
      ]
     },
     "metadata": {},
     "output_type": "display_data"
    },
    {
     "data": {
      "application/vnd.jupyter.widget-view+json": {
       "model_id": "26d74164d39f416ab8fd3238f99f15bf",
       "version_major": 2,
       "version_minor": 0
      },
      "text/plain": [
       "  0%|          | 0/438 [00:00<?, ?it/s]"
      ]
     },
     "metadata": {},
     "output_type": "display_data"
    },
    {
     "name": "stdout",
     "output_type": "stream",
     "text": [
      "-- epoch 2/10 | lr = 0.000097 | trn_loss = 0.4547 | val_loss = 0.4485 | val_auc = 0.8482 | 15.27 min\n"
     ]
    },
    {
     "data": {
      "application/vnd.jupyter.widget-view+json": {
       "model_id": "717caff75ec645a6addc22245a6148fe",
       "version_major": 2,
       "version_minor": 0
      },
      "text/plain": [
       "  0%|          | 0/7000 [00:00<?, ?it/s]"
      ]
     },
     "metadata": {},
     "output_type": "display_data"
    },
    {
     "data": {
      "application/vnd.jupyter.widget-view+json": {
       "model_id": "2083a0c7eb39485890ec6a282ffd70e5",
       "version_major": 2,
       "version_minor": 0
      },
      "text/plain": [
       "  0%|          | 0/438 [00:00<?, ?it/s]"
      ]
     },
     "metadata": {},
     "output_type": "display_data"
    },
    {
     "name": "stdout",
     "output_type": "stream",
     "text": [
      "-- epoch 3/10 | lr = 0.000088 | trn_loss = 0.4456 | val_loss = 0.4434 | val_auc = 0.8518 | 14.85 min\n"
     ]
    },
    {
     "data": {
      "application/vnd.jupyter.widget-view+json": {
       "model_id": "d5188f33e07b4722a626d7776249229f",
       "version_major": 2,
       "version_minor": 0
      },
      "text/plain": [
       "  0%|          | 0/7000 [00:00<?, ?it/s]"
      ]
     },
     "metadata": {},
     "output_type": "display_data"
    },
    {
     "data": {
      "application/vnd.jupyter.widget-view+json": {
       "model_id": "b7cd9773221e4bd3a2fda16608e0a3b0",
       "version_major": 2,
       "version_minor": 0
      },
      "text/plain": [
       "  0%|          | 0/438 [00:00<?, ?it/s]"
      ]
     },
     "metadata": {},
     "output_type": "display_data"
    },
    {
     "name": "stdout",
     "output_type": "stream",
     "text": [
      "-- epoch 4/10 | lr = 0.000075 | trn_loss = 0.4396 | val_loss = 0.4385 | val_auc = 0.8545 | 15.23 min\n"
     ]
    },
    {
     "data": {
      "application/vnd.jupyter.widget-view+json": {
       "model_id": "126fc349a9024f90a211f71a2bd258ec",
       "version_major": 2,
       "version_minor": 0
      },
      "text/plain": [
       "  0%|          | 0/7000 [00:00<?, ?it/s]"
      ]
     },
     "metadata": {},
     "output_type": "display_data"
    },
    {
     "data": {
      "application/vnd.jupyter.widget-view+json": {
       "model_id": "039f965b484144d4af4934de41a4c59d",
       "version_major": 2,
       "version_minor": 0
      },
      "text/plain": [
       "  0%|          | 0/438 [00:00<?, ?it/s]"
      ]
     },
     "metadata": {},
     "output_type": "display_data"
    },
    {
     "name": "stdout",
     "output_type": "stream",
     "text": [
      "-- epoch 5/10 | lr = 0.000059 | trn_loss = 0.4356 | val_loss = 0.4453 | val_auc = 0.8546 | 15.67 min\n"
     ]
    },
    {
     "data": {
      "application/vnd.jupyter.widget-view+json": {
       "model_id": "27e36f99da044540b48d4f6de1cc46af",
       "version_major": 2,
       "version_minor": 0
      },
      "text/plain": [
       "  0%|          | 0/7000 [00:00<?, ?it/s]"
      ]
     },
     "metadata": {},
     "output_type": "display_data"
    },
    {
     "data": {
      "application/vnd.jupyter.widget-view+json": {
       "model_id": "2cb023a51aa24ba3b02303bd9757b6d9",
       "version_major": 2,
       "version_minor": 0
      },
      "text/plain": [
       "  0%|          | 0/438 [00:00<?, ?it/s]"
      ]
     },
     "metadata": {},
     "output_type": "display_data"
    },
    {
     "name": "stdout",
     "output_type": "stream",
     "text": [
      "-- epoch 6/10 | lr = 0.000041 | trn_loss = 0.4322 | val_loss = 0.4374 | val_auc = 0.8552 | 15.22 min\n"
     ]
    },
    {
     "data": {
      "application/vnd.jupyter.widget-view+json": {
       "model_id": "181158dc08324695992bc3300561f981",
       "version_major": 2,
       "version_minor": 0
      },
      "text/plain": [
       "  0%|          | 0/7000 [00:00<?, ?it/s]"
      ]
     },
     "metadata": {},
     "output_type": "display_data"
    },
    {
     "data": {
      "application/vnd.jupyter.widget-view+json": {
       "model_id": "18563464269444b6802d5daee87cf15c",
       "version_major": 2,
       "version_minor": 0
      },
      "text/plain": [
       "  0%|          | 0/438 [00:00<?, ?it/s]"
      ]
     },
     "metadata": {},
     "output_type": "display_data"
    },
    {
     "name": "stdout",
     "output_type": "stream",
     "text": [
      "-- epoch 7/10 | lr = 0.000025 | trn_loss = 0.4288 | val_loss = 0.4362 | val_auc = 0.8555 | 15.07 min\n"
     ]
    },
    {
     "data": {
      "application/vnd.jupyter.widget-view+json": {
       "model_id": "43ae088bd2bd4361a82255f8bc4f5f4e",
       "version_major": 2,
       "version_minor": 0
      },
      "text/plain": [
       "  0%|          | 0/7000 [00:00<?, ?it/s]"
      ]
     },
     "metadata": {},
     "output_type": "display_data"
    },
    {
     "data": {
      "application/vnd.jupyter.widget-view+json": {
       "model_id": "0691b29efef5429fa16e50f68ca8fab0",
       "version_major": 2,
       "version_minor": 0
      },
      "text/plain": [
       "  0%|          | 0/438 [00:00<?, ?it/s]"
      ]
     },
     "metadata": {},
     "output_type": "display_data"
    },
    {
     "name": "stdout",
     "output_type": "stream",
     "text": [
      "-- epoch 8/10 | lr = 0.000012 | trn_loss = 0.4252 | val_loss = 0.4346 | val_auc = 0.8564 | 15.07 min\n"
     ]
    },
    {
     "data": {
      "application/vnd.jupyter.widget-view+json": {
       "model_id": "93f0583f064a4672b2b76a2de03ebc82",
       "version_major": 2,
       "version_minor": 0
      },
      "text/plain": [
       "  0%|          | 0/7000 [00:00<?, ?it/s]"
      ]
     },
     "metadata": {},
     "output_type": "display_data"
    },
    {
     "data": {
      "application/vnd.jupyter.widget-view+json": {
       "model_id": "5d49229a81474ab79a2cb20a71c9c020",
       "version_major": 2,
       "version_minor": 0
      },
      "text/plain": [
       "  0%|          | 0/438 [00:00<?, ?it/s]"
      ]
     },
     "metadata": {},
     "output_type": "display_data"
    },
    {
     "name": "stdout",
     "output_type": "stream",
     "text": [
      "-- epoch 9/10 | lr = 0.000003 | trn_loss = 0.4220 | val_loss = 0.4352 | val_auc = 0.8561 | 15.14 min\n"
     ]
    },
    {
     "data": {
      "application/vnd.jupyter.widget-view+json": {
       "model_id": "646a0c137ee843578b887b8f9300c5b3",
       "version_major": 2,
       "version_minor": 0
      },
      "text/plain": [
       "  0%|          | 0/7000 [00:00<?, ?it/s]"
      ]
     },
     "metadata": {},
     "output_type": "display_data"
    },
    {
     "data": {
      "application/vnd.jupyter.widget-view+json": {
       "model_id": "2625a76a76fd4e5db6b7a687f32fa40a",
       "version_major": 2,
       "version_minor": 0
      },
      "text/plain": [
       "  0%|          | 0/438 [00:00<?, ?it/s]"
      ]
     },
     "metadata": {},
     "output_type": "display_data"
    },
    {
     "name": "stdout",
     "output_type": "stream",
     "text": [
      "-- epoch 10/10 | lr = 0.000000 | trn_loss = 0.4194 | val_loss = 0.4352 | val_auc = 0.8563 | 14.98 min\n",
      "-------------------------------------------------------\n",
      "Best: score = 0.8564 (epoch 8)\n",
      "-------------------------------------------------------\n"
     ]
    },
    {
     "data": {
      "image/png": "[encoded data removed]",
      "text/plain": [
       "<Figure size 1440x576 with 2 Axes>"
      ]
     },
     "metadata": {
      "needs_background": "light"
     },
     "output_type": "display_data"
    },
    {
     "ename": "FileNotFound",
     "evalue": "File ../output/v4/weights_fold0.pth doesn't exist.",
     "output_type": "error",
     "traceback": [
      "\u001b[0;31m---------------------------------------------------------------------------\u001b[0m",
      "\u001b[0;31mFileNotFound\u001b[0m                              Traceback (most recent call last)",
      "\u001b[0;32m<ipython-input-12-f9ef9fff052c>\u001b[0m in \u001b[0;36m<module>\u001b[0;34m\u001b[0m\n\u001b[1;32m      6\u001b[0m \u001b[0;31m# run cross-validation\u001b[0m\u001b[0;34m\u001b[0m\u001b[0;34m\u001b[0m\u001b[0;34m\u001b[0m\u001b[0m\n\u001b[1;32m      7\u001b[0m \u001b[0mprint\u001b[0m\u001b[0;34m(\u001b[0m\u001b[0;34m'-'\u001b[0m \u001b[0;34m*\u001b[0m \u001b[0;36m55\u001b[0m\u001b[0;34m)\u001b[0m\u001b[0;34m\u001b[0m\u001b[0;34m\u001b[0m\u001b[0m\n\u001b[0;32m----> 8\u001b[0;31m notebook_launcher(function      = run_training,\n\u001b[0m\u001b[1;32m      9\u001b[0m                   \u001b[0margs\u001b[0m          \u001b[0;34m=\u001b[0m \u001b[0;34m(\u001b[0m\u001b[0mCFG\u001b[0m\u001b[0;34m,\u001b[0m \u001b[0mdf\u001b[0m\u001b[0;34m)\u001b[0m\u001b[0;34m,\u001b[0m\u001b[0;34m\u001b[0m\u001b[0;34m\u001b[0m\u001b[0m\n\u001b[1;32m     10\u001b[0m                   \u001b[0mnum_processes\u001b[0m \u001b[0;34m=\u001b[0m \u001b[0mCFG\u001b[0m\u001b[0;34m[\u001b[0m\u001b[0;34m'num_devices'\u001b[0m\u001b[0;34m]\u001b[0m\u001b[0;34m,\u001b[0m\u001b[0;34m\u001b[0m\u001b[0;34m\u001b[0m\u001b[0m\n",
      "\u001b[0;32m~/.conda/envs/py3/lib/python3.8/site-packages/accelerate/notebook_launcher.py\u001b[0m in \u001b[0;36mnotebook_launcher\u001b[0;34m(function, args, num_processes, use_fp16, use_port)\u001b[0m\n\u001b[1;32m    129\u001b[0m             \u001b[0;32melse\u001b[0m\u001b[0;34m:\u001b[0m\u001b[0;34m\u001b[0m\u001b[0;34m\u001b[0m\u001b[0m\n\u001b[1;32m    130\u001b[0m                 \u001b[0mprint\u001b[0m\u001b[0;34m(\u001b[0m\u001b[0;34m\"Launching training on CPU.\"\u001b[0m\u001b[0;34m)\u001b[0m\u001b[0;34m\u001b[0m\u001b[0;34m\u001b[0m\u001b[0m\n\u001b[0;32m--> 131\u001b[0;31m             \u001b[0mfunction\u001b[0m\u001b[0;34m(\u001b[0m\u001b[0;34m*\u001b[0m\u001b[0margs\u001b[0m\u001b[0;34m)\u001b[0m\u001b[0;34m\u001b[0m\u001b[0;34m\u001b[0m\u001b[0m\n\u001b[0m",
      "\u001b[0;32m~/Downloads/g2net/code/run_training.py\u001b[0m in \u001b[0;36mrun_training\u001b[0;34m(CFG, df)\u001b[0m\n\u001b[1;32m     66\u001b[0m         \u001b[0;31m# send weights to neptunes\u001b[0m\u001b[0;34m\u001b[0m\u001b[0;34m\u001b[0m\u001b[0;34m\u001b[0m\u001b[0m\n\u001b[1;32m     67\u001b[0m         \u001b[0;32mif\u001b[0m \u001b[0mCFG\u001b[0m\u001b[0;34m[\u001b[0m\u001b[0;34m'tracking'\u001b[0m\u001b[0;34m]\u001b[0m \u001b[0;32mand\u001b[0m \u001b[0maccelerator\u001b[0m\u001b[0;34m.\u001b[0m\u001b[0mis_local_main_process\u001b[0m\u001b[0;34m:\u001b[0m\u001b[0;34m\u001b[0m\u001b[0;34m\u001b[0m\u001b[0m\n\u001b[0;32m---> 68\u001b[0;31m             \u001b[0mneptune\u001b[0m\u001b[0;34m.\u001b[0m\u001b[0msend_artifact\u001b[0m\u001b[0;34m(\u001b[0m\u001b[0mCFG\u001b[0m\u001b[0;34m[\u001b[0m\u001b[0;34m'out_path'\u001b[0m\u001b[0;34m]\u001b[0m \u001b[0;34m+\u001b[0m \u001b[0;34m'weights_fold{}.pth'\u001b[0m\u001b[0;34m.\u001b[0m\u001b[0mformat\u001b[0m\u001b[0;34m(\u001b[0m\u001b[0mfold\u001b[0m\u001b[0;34m)\u001b[0m\u001b[0;34m)\u001b[0m\u001b[0;34m\u001b[0m\u001b[0;34m\u001b[0m\u001b[0m\n\u001b[0m\u001b[1;32m     69\u001b[0m \u001b[0;34m\u001b[0m\u001b[0m\n\u001b[1;32m     70\u001b[0m         \u001b[0;31m# clear memory\u001b[0m\u001b[0;34m\u001b[0m\u001b[0;34m\u001b[0m\u001b[0;34m\u001b[0m\u001b[0m\n",
      "\u001b[0;32m~/.conda/envs/py3/lib/python3.8/site-packages/neptune/__init__.py\u001b[0m in \u001b[0;36msend_artifact\u001b[0;34m(artifact, destination)\u001b[0m\n\u001b[1;32m    367\u001b[0m     \u001b[0mAlias\u001b[0m \u001b[0;32mfor\u001b[0m \u001b[0;34m:\u001b[0m\u001b[0mmeth\u001b[0m\u001b[0;34m:\u001b[0m\u001b[0;31m`\u001b[0m\u001b[0;34m~\u001b[0m\u001b[0mneptune\u001b[0m\u001b[0;34m.\u001b[0m\u001b[0mexperiments\u001b[0m\u001b[0;34m.\u001b[0m\u001b[0mExperiment\u001b[0m\u001b[0;34m.\u001b[0m\u001b[0mlog_artifact\u001b[0m\u001b[0;31m`\u001b[0m\u001b[0;34m\u001b[0m\u001b[0;34m\u001b[0m\u001b[0m\n\u001b[1;32m    368\u001b[0m     \"\"\"\n\u001b[0;32m--> 369\u001b[0;31m     \u001b[0;32mreturn\u001b[0m \u001b[0mget_experiment\u001b[0m\u001b[0;34m(\u001b[0m\u001b[0;34m)\u001b[0m\u001b[0;34m.\u001b[0m\u001b[0mlog_artifact\u001b[0m\u001b[0;34m(\u001b[0m\u001b[0martifact\u001b[0m\u001b[0;34m,\u001b[0m \u001b[0mdestination\u001b[0m\u001b[0;34m)\u001b[0m\u001b[0;34m\u001b[0m\u001b[0;34m\u001b[0m\u001b[0m\n\u001b[0m\u001b[1;32m    370\u001b[0m \u001b[0;34m\u001b[0m\u001b[0m\n\u001b[1;32m    371\u001b[0m \u001b[0;34m\u001b[0m\u001b[0m\n",
      "\u001b[0;32m~/.conda/envs/py3/lib/python3.8/site-packages/neptune/experiments.py\u001b[0m in \u001b[0;36mlog_artifact\u001b[0;34m(self, artifact, destination)\u001b[0m\n\u001b[1;32m    621\u001b[0m                 \u001b[0mexperiment\u001b[0m\u001b[0;34m.\u001b[0m\u001b[0mlog_artifact\u001b[0m\u001b[0;34m(\u001b[0m\u001b[0;34m'images/wrong_prediction_1.png'\u001b[0m\u001b[0;34m,\u001b[0m \u001b[0;34m'images/my_image_1.png'\u001b[0m\u001b[0;34m)\u001b[0m\u001b[0;34m\u001b[0m\u001b[0;34m\u001b[0m\u001b[0m\n\u001b[1;32m    622\u001b[0m         \"\"\"\n\u001b[0;32m--> 623\u001b[0;31m         \u001b[0mself\u001b[0m\u001b[0;34m.\u001b[0m\u001b[0m_backend\u001b[0m\u001b[0;34m.\u001b[0m\u001b[0mlog_artifact\u001b[0m\u001b[0;34m(\u001b[0m\u001b[0mself\u001b[0m\u001b[0;34m,\u001b[0m \u001b[0martifact\u001b[0m\u001b[0;34m,\u001b[0m \u001b[0mdestination\u001b[0m\u001b[0;34m)\u001b[0m\u001b[0;34m\u001b[0m\u001b[0;34m\u001b[0m\u001b[0m\n\u001b[0m\u001b[1;32m    624\u001b[0m \u001b[0;34m\u001b[0m\u001b[0m\n\u001b[1;32m    625\u001b[0m     \u001b[0;32mdef\u001b[0m \u001b[0mdelete_artifacts\u001b[0m\u001b[0;34m(\u001b[0m\u001b[0mself\u001b[0m\u001b[0;34m,\u001b[0m \u001b[0mpath\u001b[0m\u001b[0;34m)\u001b[0m\u001b[0;34m:\u001b[0m\u001b[0;34m\u001b[0m\u001b[0;34m\u001b[0m\u001b[0m\n",
      "\u001b[0;32m~/.conda/envs/py3/lib/python3.8/site-packages/neptune/internal/api_clients/hosted_api_clients/hosted_alpha_leaderboard_api_client.py\u001b[0m in \u001b[0;36mlog_artifact\u001b[0;34m(self, experiment, artifact, destination)\u001b[0m\n\u001b[1;32m    441\u001b[0m                 \u001b[0;32mreturn\u001b[0m\u001b[0;34m\u001b[0m\u001b[0;34m\u001b[0m\u001b[0m\n\u001b[1;32m    442\u001b[0m             \u001b[0;32melse\u001b[0m\u001b[0;34m:\u001b[0m\u001b[0;34m\u001b[0m\u001b[0;34m\u001b[0m\u001b[0m\n\u001b[0;32m--> 443\u001b[0;31m                 \u001b[0;32mraise\u001b[0m \u001b[0mFileNotFound\u001b[0m\u001b[0;34m(\u001b[0m\u001b[0martifact\u001b[0m\u001b[0;34m)\u001b[0m\u001b[0;34m\u001b[0m\u001b[0;34m\u001b[0m\u001b[0m\n\u001b[0m\u001b[1;32m    444\u001b[0m         \u001b[0;32melif\u001b[0m \u001b[0mhasattr\u001b[0m\u001b[0;34m(\u001b[0m\u001b[0martifact\u001b[0m\u001b[0;34m,\u001b[0m \u001b[0;34m'read'\u001b[0m\u001b[0;34m)\u001b[0m\u001b[0;34m:\u001b[0m\u001b[0;34m\u001b[0m\u001b[0;34m\u001b[0m\u001b[0m\n\u001b[1;32m    445\u001b[0m             \u001b[0;32mif\u001b[0m \u001b[0;32mnot\u001b[0m \u001b[0mdestination\u001b[0m\u001b[0;34m:\u001b[0m\u001b[0;34m\u001b[0m\u001b[0;34m\u001b[0m\u001b[0m\n",
      "\u001b[0;31mFileNotFound\u001b[0m: File ../output/v4/weights_fold0.pth doesn't exist."
     ]
    }
   ],
   "source": [
    "####### CROSS-VALIDATION LOOP\n",
    "\n",
    "# timer\n",
    "cv_start = time.time()\n",
    "\n",
    "# run cross-validation\n",
    "print('-' * 55)\n",
    "notebook_launcher(function      = run_training,\n",
    "                  args          = (CFG, df),\n",
    "                  num_processes = CFG['num_devices'],\n",
    "                  use_fp16      = CFG['use_fp16'])\n",
    "\n",
    "# feedback\n",
    "print('')\n",
    "print('Finished in {:.2f} minutes'.format((time.time() - cv_start) / 60))"
   ]
  },
  {
   "cell_type": "markdown",
   "metadata": {
    "id": "e5bUh1-_0VjL",
    "tags": []
   },
   "source": [
    "# 5. INFERENCE"
   ]
  },
  {
   "cell_type": "code",
   "execution_count": null,
   "metadata": {
    "tags": []
   },
   "outputs": [],
   "source": [
    "####### INFERENCE LOOP\n",
    "\n",
    "# timer\n",
    "cv_start = time.time()\n",
    "\n",
    "# run cross-validation\n",
    "print('-' * 55)\n",
    "notebook_launcher(function      = run_inference,\n",
    "                  args          = (df, sub, CFG),\n",
    "                  num_processes = 1,\n",
    "                  use_fp16      = CFG['use_fp16'])\n",
    "\n",
    "# feedback\n",
    "print('')\n",
    "print('Finished in {:.2f} minutes'.format((time.time() - cv_start) / 60))"
   ]
  },
  {
   "cell_type": "code",
   "execution_count": null,
   "metadata": {
    "id": "cJQFNQsc0VjL"
   },
   "outputs": [],
   "source": [
    "####### CHECK OOF PERFORMANCE\n",
    "\n",
    "# import OOF\n",
    "oof = pd.read_csv(CFG['out_path'] + 'oof.csv')\n",
    "\n",
    "# compute score\n",
    "oof_score = []\n",
    "for fold in range(CFG['num_folds']):\n",
    "    oof_score.append(get_score(oof.loc[oof['fold'] == fold, 'target'],\n",
    "                               oof.loc[oof['fold'] == fold, 'pred']))\n",
    "CFG['oof_score_tta'] = np.mean(oof_score)\n",
    "\n",
    "# print performance\n",
    "print('-' * 30)\n",
    "print('OOF with TTA = {:.4f}'.format(CFG['oof_score_tta']))\n",
    "print('-' * 30)"
   ]
  },
  {
   "cell_type": "code",
   "execution_count": null,
   "metadata": {
    "id": "2g1eeDFgleGB"
   },
   "outputs": [],
   "source": [
    "####### EXPORT CONFIGURATION\n",
    "\n",
    "# save dictionary\n",
    "pickle.dump(CFG, open(CFG['out_path'] + 'configuration.pkl', 'wb'))\n",
    "\n",
    "# send data to Neptune\n",
    "if CFG['tracking']:\n",
    "    neptune.send_metric('oof_score_tta', CFG['oof_score_tta'])\n",
    "    neptune.send_artifact(CFG['out_path'] + 'configuration.pkl')\n",
    "    neptune.stop()"
   ]
  },
  {
   "cell_type": "markdown",
   "metadata": {},
   "source": [
    "# 7. ERROR ANALYSIS"
   ]
  },
  {
   "cell_type": "code",
   "execution_count": null,
   "metadata": {},
   "outputs": [],
   "source": [
    "###### SHOW SAMPLE PREDICTIONS\n",
    "\n",
    "from plot_predictions import plot_predictions\n",
    "plot_predictions(CFG, fold = 0, sample_size = 5)"
   ]
  }
 ],
 "metadata": {
  "accelerator": "GPU",
  "colab": {
   "collapsed_sections": [],
   "name": "training_v21.ipynb",
   "provenance": [],
   "toc_visible": true
  },
  "kernelspec": {
   "display_name": "Python 3",
   "language": "python",
   "name": "python3"
  },
  "language_info": {
   "codemirror_mode": {
    "name": "ipython",
    "version": 3
   },
   "file_extension": ".py",
   "mimetype": "text/x-python",
   "name": "python",
   "nbconvert_exporter": "python",
   "pygments_lexer": "ipython3",
   "version": "3.8.8"
  },
  "neptune": {
   "notebookId": "83aec7da-b563-4f21-b7c2-a086a97d489b",
   "projectVersion": 2
  },
  "papermill": {
   "default_parameters": {},
   "duration": 27660.340489,
   "end_time": "2021-03-13T07:27:19.479867",
   "environment_variables": {},
   "exception": null,
   "input_path": "__notebook__.ipynb",
   "output_path": "__notebook__.ipynb",
   "parameters": {},
   "start_time": "2021-03-12T23:46:19.139378",
   "version": "2.2.2"
  },
  "toc-autonumbering": false,
  "toc-showtags": false
 },
 "nbformat": 4,
 "nbformat_minor": 4
}
